{
 "cells": [
  {
   "cell_type": "markdown",
   "id": "a7427108",
   "metadata": {
    "slideshow": {
     "slide_type": "slide"
    }
   },
   "source": [
    "# QLM cheatsheet\n",
    "\n",
    "\n",
    "## Install:\n",
    "\n",
    "    pip install myqlm\n",
    "    pip install myqlm-interop\n",
    "    "
   ]
  },
  {
   "cell_type": "markdown",
   "id": "34eaa3c8",
   "metadata": {
    "slideshow": {
     "slide_type": "slide"
    }
   },
   "source": [
    "## Hello world: create a circuit and execute it"
   ]
  },
  {
   "cell_type": "code",
   "execution_count": 45,
   "id": "c3bcf5e3",
   "metadata": {
    "slideshow": {
     "slide_type": "fragment"
    }
   },
   "outputs": [
    {
     "data": {
      "text/html": [
       "\n",
       "<script>\n",
       "requirejs.config({\n",
       "    paths: {\n",
       "        d3: \"/custom/d3.min\"\n",
       "    }\n",
       "});\n",
       "\n",
       "require([\"d3\"], function(d3) {\n",
       "    window.d3 = d3;\n",
       "});\n",
       "</script>\n",
       "<script>\n",
       "_select = d3.select;\n",
       "\n",
       "d3.select17 = function(selection) {\n",
       "    return _select(\"#d3-cell-17\").select(selection);\n",
       "}\n",
       "d3.selectAll17 = function(selection) {\n",
       "    return _select(\"#d3-cell-17\").selectAll(selection);\n",
       "}\n",
       "</script>\n",
       "\n",
       "<g id=\"d3-cell-17\">\n",
       "        \n",
       "    <table id=\"circuit\"></table>\n",
       "\n",
       "    <button id=\"svg_button\">SVG export</button>\n",
       "\n",
       "    <div id=\"svg_wrapper\" hidden></div>\n",
       "\n",
       "    <script>\n",
       "        set_environment({\"nbqbits\": 2, \"slice-0\": [{\"index\": 0, \"qbits\": [0], \"ctrl\": 0, \"dag\": 0, \"gate\": \"H\", \"matrix\": [[\"0.71\", \"0.71\"], [\"0.71\", \"-0.71\"]], \"params\": []}], \"slice-1\": [{\"index\": 1, \"qbits\": [0, 1], \"ctrl\": 1, \"dag\": 0, \"gate\": \"CNOT\", \"matrix\": [[\"0.00\", \"1.00\"], [\"1.00\", \"0.00\"]], \"params\": []}]}, 1.0);\n",
       "        init_display();\n",
       "    </script>\n",
       "\n",
       "</g>"
      ],
      "text/plain": [
       "<IPython.core.display.HTML object>"
      ]
     },
     "metadata": {},
     "output_type": "display_data"
    },
    {
     "data": {
      "application/javascript": [
       "        try {\n",
       "            generate_chunk_slices(\n",
       "                [[{\"index\": 0, \"qbits\": [0], \"ctrl\": 0, \"dag\": 0, \"gate\": \"H\", \"matrix\": [[\"0.71\", \"0.71\"], [\"0.71\", \"-0.71\"]], \"params\": []}], [{\"index\": 1, \"qbits\": [0, 1], \"ctrl\": 1, \"dag\": 0, \"gate\": \"CNOT\", \"matrix\": [[\"0.00\", \"1.00\"], [\"1.00\", \"0.00\"]], \"params\": []}]], 0\n",
       "            );\n",
       "init_animations(width, 0);\n",
       "            } catch (err) {\n",
       "                $(\"#svg_button\").closest(\".output_area\").remove();\n",
       "                $(\".js-error\").remove();\n",
       "            }\n",
       "            $(\".output_area:not(:first-child)\").remove();\n"
      ],
      "text/plain": [
       "<IPython.core.display.Javascript object>"
      ]
     },
     "metadata": {},
     "output_type": "display_data"
    },
    {
     "data": {
      "application/javascript": [
       "    try {\n",
       "        init_animations(width, 0);\n",
       "        init_svg_print({\"nbqbits\": 2, \"slice-0\": [{\"index\": 0, \"qbits\": [0], \"ctrl\": 0, \"dag\": 0, \"gate\": \"H\", \"matrix\": [[\"0.71\", \"0.71\"], [\"0.71\", \"-0.71\"]], \"params\": []}], \"slice-1\": [{\"index\": 1, \"qbits\": [0, 1], \"ctrl\": 1, \"dag\": 0, \"gate\": \"CNOT\", \"matrix\": [[\"0.00\", \"1.00\"], [\"1.00\", \"0.00\"]], \"params\": []}]}, width, 0);\n",
       "    } catch (err) {\n",
       "        console.log(\"The error blocking the display is: \" + err)\n",
       "    }\n",
       "$(\".output_area:not(:first-child)\").remove();\n"
      ],
      "text/plain": [
       "<IPython.core.display.Javascript object>"
      ]
     },
     "metadata": {},
     "output_type": "display_data"
    },
    {
     "name": "stdout",
     "output_type": "stream",
     "text": [
      "|00> (0.7071067811865475+0j) 0.4999999999999999\n",
      "|11> (0.7071067811865475+0j) 0.4999999999999999\n"
     ]
    }
   ],
   "source": [
    "import numpy as np\n",
    "import matplotlib.pyplot as plt\n",
    "from qat.lang.AQASM import Program, H, CNOT\n",
    "prog = Program()\n",
    "qbits = prog.qalloc(2)\n",
    "prog.apply(H, qbits[0])\n",
    "prog.apply(CNOT, qbits)\n",
    "circ = prog.to_circ()\n",
    "%jsqatdisplay circ\n",
    "\n",
    "from qat.qpus import PyLinalg\n",
    "qpu = PyLinalg()\n",
    "result = qpu.submit(circ.to_job())\n",
    "for sample in result:\n",
    "    print(sample.state, sample.amplitude, sample.probability)"
   ]
  },
  {
   "cell_type": "markdown",
   "id": "dd1e8ccb",
   "metadata": {
    "slideshow": {
     "slide_type": "slide"
    }
   },
   "source": [
    "## Use a finite number of shots"
   ]
  },
  {
   "cell_type": "code",
   "execution_count": 46,
   "id": "4ee8d21c",
   "metadata": {
    "slideshow": {
     "slide_type": "fragment"
    }
   },
   "outputs": [
    {
     "name": "stdout",
     "output_type": "stream",
     "text": [
      "|00> None 0.46 0.03533045720097818\n",
      "|11> None 0.54 0.03533045720097818\n"
     ]
    }
   ],
   "source": [
    "result = qpu.submit(circ.to_job(nbshots=200))\n",
    "for sample in result:\n",
    "    print(sample.state, sample.amplitude, sample.probability, sample.err)"
   ]
  },
  {
   "cell_type": "markdown",
   "id": "13640916",
   "metadata": {
    "slideshow": {
     "slide_type": "slide"
    }
   },
   "source": [
    "## Use a quantum routine and controls"
   ]
  },
  {
   "cell_type": "code",
   "execution_count": 47,
   "id": "3f600760",
   "metadata": {
    "slideshow": {
     "slide_type": "fragment"
    }
   },
   "outputs": [
    {
     "data": {
      "text/html": [
       "\n",
       "<script>\n",
       "requirejs.config({\n",
       "    paths: {\n",
       "        d3: \"/custom/d3.min\"\n",
       "    }\n",
       "});\n",
       "\n",
       "require([\"d3\"], function(d3) {\n",
       "    window.d3 = d3;\n",
       "});\n",
       "</script>\n",
       "<script>\n",
       "_select = d3.select;\n",
       "\n",
       "d3.select18 = function(selection) {\n",
       "    return _select(\"#d3-cell-18\").select(selection);\n",
       "}\n",
       "d3.selectAll18 = function(selection) {\n",
       "    return _select(\"#d3-cell-18\").selectAll(selection);\n",
       "}\n",
       "</script>\n",
       "\n",
       "<g id=\"d3-cell-18\">\n",
       "        \n",
       "    <table id=\"circuit\"></table>\n",
       "\n",
       "    <button id=\"svg_button\">SVG export</button>\n",
       "\n",
       "    <div id=\"svg_wrapper\" hidden></div>\n",
       "\n",
       "    <script>\n",
       "        set_environment({\"nbqbits\": 3, \"slice-0\": [{\"index\": 0, \"qbits\": [0], \"ctrl\": 0, \"dag\": 0, \"gate\": \"RX\", \"matrix\": [[\"0.71\", \"-0.71i\"], [\"-0.71i\", \"0.71\"]], \"params\": [\"\\u03c0/2\"]}], \"slice-1\": [{\"index\": 1, \"qbits\": [0, 1], \"ctrl\": 1, \"dag\": 0, \"gate\": \"Y\", \"matrix\": [[\"0.00\", \"-i\"], [\"i\", \"0.00\"]], \"params\": []}], \"slice-2\": [{\"index\": 2, \"qbits\": [1], \"ctrl\": 0, \"dag\": 0, \"gate\": \"RX\", \"matrix\": [[\"0.71\", \"-0.71i\"], [\"-0.71i\", \"0.71\"]], \"params\": [\"\\u03c0/2\"]}], \"slice-3\": [{\"index\": 3, \"qbits\": [1, 2], \"ctrl\": 1, \"dag\": 0, \"gate\": \"Y\", \"matrix\": [[\"0.00\", \"-i\"], [\"i\", \"0.00\"]], \"params\": []}], \"slice-4\": [{\"index\": 4, \"qbits\": [0, 1], \"ctrl\": 1, \"dag\": 0, \"gate\": \"RX\", \"matrix\": [[\"0.71\", \"-0.71i\"], [\"-0.71i\", \"0.71\"]], \"params\": [\"\\u03c0/2\"]}], \"slice-5\": [{\"index\": 5, \"qbits\": [0, 1, 2], \"ctrl\": 2, \"dag\": 0, \"gate\": \"Y\", \"matrix\": [[\"0.00\", \"-i\"], [\"i\", \"0.00\"]], \"params\": []}]}, 1.0);\n",
       "        init_display();\n",
       "    </script>\n",
       "\n",
       "</g>"
      ],
      "text/plain": [
       "<IPython.core.display.HTML object>"
      ]
     },
     "metadata": {},
     "output_type": "display_data"
    },
    {
     "data": {
      "application/javascript": [
       "        try {\n",
       "            generate_chunk_slices(\n",
       "                [[{\"index\": 0, \"qbits\": [0], \"ctrl\": 0, \"dag\": 0, \"gate\": \"RX\", \"matrix\": [[\"0.71\", \"-0.71i\"], [\"-0.71i\", \"0.71\"]], \"params\": [\"\\u03c0/2\"]}], [{\"index\": 1, \"qbits\": [0, 1], \"ctrl\": 1, \"dag\": 0, \"gate\": \"Y\", \"matrix\": [[\"0.00\", \"-i\"], [\"i\", \"0.00\"]], \"params\": []}], [{\"index\": 2, \"qbits\": [1], \"ctrl\": 0, \"dag\": 0, \"gate\": \"RX\", \"matrix\": [[\"0.71\", \"-0.71i\"], [\"-0.71i\", \"0.71\"]], \"params\": [\"\\u03c0/2\"]}], [{\"index\": 3, \"qbits\": [1, 2], \"ctrl\": 1, \"dag\": 0, \"gate\": \"Y\", \"matrix\": [[\"0.00\", \"-i\"], [\"i\", \"0.00\"]], \"params\": []}], [{\"index\": 4, \"qbits\": [0, 1], \"ctrl\": 1, \"dag\": 0, \"gate\": \"RX\", \"matrix\": [[\"0.71\", \"-0.71i\"], [\"-0.71i\", \"0.71\"]], \"params\": [\"\\u03c0/2\"]}], [{\"index\": 5, \"qbits\": [0, 1, 2], \"ctrl\": 2, \"dag\": 0, \"gate\": \"Y\", \"matrix\": [[\"0.00\", \"-i\"], [\"i\", \"0.00\"]], \"params\": []}]], 0\n",
       "            );\n",
       "init_animations(width, 0);\n",
       "            } catch (err) {\n",
       "                $(\"#svg_button\").closest(\".output_area\").remove();\n",
       "                $(\".js-error\").remove();\n",
       "            }\n",
       "            $(\".output_area:not(:first-child)\").remove();\n"
      ],
      "text/plain": [
       "<IPython.core.display.Javascript object>"
      ]
     },
     "metadata": {},
     "output_type": "display_data"
    },
    {
     "data": {
      "application/javascript": [
       "    try {\n",
       "        init_animations(width, 0);\n",
       "        init_svg_print({\"nbqbits\": 3, \"slice-0\": [{\"index\": 0, \"qbits\": [0], \"ctrl\": 0, \"dag\": 0, \"gate\": \"RX\", \"matrix\": [[\"0.71\", \"-0.71i\"], [\"-0.71i\", \"0.71\"]], \"params\": [\"\\u03c0/2\"]}], \"slice-1\": [{\"index\": 1, \"qbits\": [0, 1], \"ctrl\": 1, \"dag\": 0, \"gate\": \"Y\", \"matrix\": [[\"0.00\", \"-i\"], [\"i\", \"0.00\"]], \"params\": []}], \"slice-2\": [{\"index\": 2, \"qbits\": [1], \"ctrl\": 0, \"dag\": 0, \"gate\": \"RX\", \"matrix\": [[\"0.71\", \"-0.71i\"], [\"-0.71i\", \"0.71\"]], \"params\": [\"\\u03c0/2\"]}], \"slice-3\": [{\"index\": 3, \"qbits\": [1, 2], \"ctrl\": 1, \"dag\": 0, \"gate\": \"Y\", \"matrix\": [[\"0.00\", \"-i\"], [\"i\", \"0.00\"]], \"params\": []}], \"slice-4\": [{\"index\": 4, \"qbits\": [0, 1], \"ctrl\": 1, \"dag\": 0, \"gate\": \"RX\", \"matrix\": [[\"0.71\", \"-0.71i\"], [\"-0.71i\", \"0.71\"]], \"params\": [\"\\u03c0/2\"]}], \"slice-5\": [{\"index\": 5, \"qbits\": [0, 1, 2], \"ctrl\": 2, \"dag\": 0, \"gate\": \"Y\", \"matrix\": [[\"0.00\", \"-i\"], [\"i\", \"0.00\"]], \"params\": []}]}, width, 0);\n",
       "    } catch (err) {\n",
       "        console.log(\"The error blocking the display is: \" + err)\n",
       "    }\n",
       "$(\".output_area:not(:first-child)\").remove();\n"
      ],
      "text/plain": [
       "<IPython.core.display.Javascript object>"
      ]
     },
     "metadata": {},
     "output_type": "display_data"
    },
    {
     "name": "stdout",
     "output_type": "stream",
     "text": [
      "|000> 0.2500000000000001\n",
      "|011> 0.2500000000000001\n",
      "|100> 0.12500000000000006\n",
      "|101> 0.12500000000000006\n",
      "|110> 0.12500000000000006\n",
      "|111> 0.12500000000000006\n"
     ]
    }
   ],
   "source": [
    "from qat.lang.AQASM import QRoutine, RX, Y\n",
    "\n",
    "routine = QRoutine()\n",
    "reg = routine.new_wires(2)\n",
    "routine.apply(RX(np.pi/2), reg[0])\n",
    "routine.apply(Y.ctrl(), reg)\n",
    "\n",
    "prog = Program()\n",
    "qbits = prog.qalloc(3)\n",
    "prog.apply(routine, qbits[0:2])\n",
    "prog.apply(routine, qbits[1:3])\n",
    "prog.apply(routine.ctrl(), qbits)\n",
    "circ = prog.to_circ()\n",
    "%jsqatdisplay circ\n",
    "\n",
    "result = qpu.submit(circ.to_job(qubits=qbits))\n",
    "for sample in result:\n",
    "    print(sample.state, sample.probability)"
   ]
  },
  {
   "cell_type": "markdown",
   "id": "64cf4eb8",
   "metadata": {
    "slideshow": {
     "slide_type": "slide"
    }
   },
   "source": [
    "## Perform a Quantum Fourier transform"
   ]
  },
  {
   "cell_type": "code",
   "execution_count": 48,
   "id": "e1e004de",
   "metadata": {
    "slideshow": {
     "slide_type": "fragment"
    }
   },
   "outputs": [
    {
     "data": {
      "text/html": [
       "\n",
       "<script>\n",
       "requirejs.config({\n",
       "    paths: {\n",
       "        d3: \"/custom/d3.min\"\n",
       "    }\n",
       "});\n",
       "\n",
       "require([\"d3\"], function(d3) {\n",
       "    window.d3 = d3;\n",
       "});\n",
       "</script>\n",
       "<script>\n",
       "_select = d3.select;\n",
       "\n",
       "d3.select19 = function(selection) {\n",
       "    return _select(\"#d3-cell-19\").select(selection);\n",
       "}\n",
       "d3.selectAll19 = function(selection) {\n",
       "    return _select(\"#d3-cell-19\").selectAll(selection);\n",
       "}\n",
       "</script>\n",
       "\n",
       "<g id=\"d3-cell-19\">\n",
       "        \n",
       "    <table id=\"circuit\"></table>\n",
       "\n",
       "    <button id=\"svg_button\">SVG export</button>\n",
       "\n",
       "    <div id=\"svg_wrapper\" hidden></div>\n",
       "\n",
       "    <script>\n",
       "        set_environment({\"nbqbits\": 3, \"slice-0\": [{\"index\": 0, \"qbits\": [0, 1, 2], \"ctrl\": 0, \"dag\": 0, \"gate\": \"QFT\", \"params\": [\"3\"]}]}, 1.0);\n",
       "        init_display();\n",
       "    </script>\n",
       "\n",
       "</g>"
      ],
      "text/plain": [
       "<IPython.core.display.HTML object>"
      ]
     },
     "metadata": {},
     "output_type": "display_data"
    },
    {
     "data": {
      "application/javascript": [
       "        try {\n",
       "            generate_chunk_slices(\n",
       "                [[{\"index\": 0, \"qbits\": [0, 1, 2], \"ctrl\": 0, \"dag\": 0, \"gate\": \"QFT\", \"params\": [\"3\"]}]], 0\n",
       "            );\n",
       "init_animations(width, 0);\n",
       "            } catch (err) {\n",
       "                $(\"#svg_button\").closest(\".output_area\").remove();\n",
       "                $(\".js-error\").remove();\n",
       "            }\n",
       "            $(\".output_area:not(:first-child)\").remove();\n"
      ],
      "text/plain": [
       "<IPython.core.display.Javascript object>"
      ]
     },
     "metadata": {},
     "output_type": "display_data"
    },
    {
     "data": {
      "application/javascript": [
       "    try {\n",
       "        init_animations(width, 0);\n",
       "        init_svg_print({\"nbqbits\": 3, \"slice-0\": [{\"index\": 0, \"qbits\": [0, 1, 2], \"ctrl\": 0, \"dag\": 0, \"gate\": \"QFT\", \"params\": [\"3\"]}]}, width, 0);\n",
       "    } catch (err) {\n",
       "        console.log(\"The error blocking the display is: \" + err)\n",
       "    }\n",
       "$(\".output_area:not(:first-child)\").remove();\n"
      ],
      "text/plain": [
       "<IPython.core.display.Javascript object>"
      ]
     },
     "metadata": {},
     "output_type": "display_data"
    },
    {
     "name": "stdout",
     "output_type": "stream",
     "text": [
      "|000> 0.12499999999999994\n",
      "|001> 0.12499999999999994\n",
      "|010> 0.12499999999999994\n",
      "|011> 0.12499999999999994\n",
      "|100> 0.12499999999999994\n",
      "|101> 0.12499999999999994\n",
      "|110> 0.12499999999999994\n",
      "|111> 0.12499999999999994\n"
     ]
    }
   ],
   "source": [
    "from qat.lang.AQASM.qftarith import QFT\n",
    "\n",
    "prog = Program()\n",
    "qbits = prog.qalloc(3)\n",
    "prog.apply(QFT(3), qbits)\n",
    "\n",
    "circ = prog.to_circ()\n",
    "%jsqatdisplay circ --d 0\n",
    "\n",
    "result = qpu.submit(circ.to_job(qubits=qbits))\n",
    "for sample in result:\n",
    "    print(sample.state, sample.probability)"
   ]
  },
  {
   "cell_type": "markdown",
   "id": "ea2aff90",
   "metadata": {
    "slideshow": {
     "slide_type": "slide"
    }
   },
   "source": [
    "## Use several typed qubit registers and measure only one register"
   ]
  },
  {
   "cell_type": "code",
   "execution_count": 49,
   "id": "329dc067",
   "metadata": {
    "slideshow": {
     "slide_type": "fragment"
    }
   },
   "outputs": [
    {
     "data": {
      "text/html": [
       "\n",
       "<script>\n",
       "requirejs.config({\n",
       "    paths: {\n",
       "        d3: \"/custom/d3.min\"\n",
       "    }\n",
       "});\n",
       "\n",
       "require([\"d3\"], function(d3) {\n",
       "    window.d3 = d3;\n",
       "});\n",
       "</script>\n",
       "<script>\n",
       "_select = d3.select;\n",
       "\n",
       "d3.select20 = function(selection) {\n",
       "    return _select(\"#d3-cell-20\").select(selection);\n",
       "}\n",
       "d3.selectAll20 = function(selection) {\n",
       "    return _select(\"#d3-cell-20\").selectAll(selection);\n",
       "}\n",
       "</script>\n",
       "\n",
       "<g id=\"d3-cell-20\">\n",
       "        \n",
       "    <table id=\"circuit\"></table>\n",
       "\n",
       "    <button id=\"svg_button\">SVG export</button>\n",
       "\n",
       "    <div id=\"svg_wrapper\" hidden></div>\n",
       "\n",
       "    <script>\n",
       "        set_environment({\"nbqbits\": 3, \"slice-0\": [{\"index\": 0, \"qbits\": [0], \"ctrl\": 0, \"dag\": 0, \"gate\": \"RX\", \"matrix\": [[\"0.71\", \"-0.71i\"], [\"-0.71i\", \"0.71\"]], \"params\": [\"\\u03c0/2\"]}], \"slice-1\": [{\"index\": 1, \"qbits\": [0, 1], \"ctrl\": 1, \"dag\": 0, \"gate\": \"Y\", \"matrix\": [[\"0.00\", \"-i\"], [\"i\", \"0.00\"]], \"params\": []}], \"slice-2\": [{\"index\": 2, \"qbits\": [1], \"ctrl\": 0, \"dag\": 0, \"gate\": \"RX\", \"matrix\": [[\"0.71\", \"-0.71i\"], [\"-0.71i\", \"0.71\"]], \"params\": [\"\\u03c0/2\"]}], \"slice-3\": [{\"index\": 3, \"qbits\": [1, 2], \"ctrl\": 1, \"dag\": 0, \"gate\": \"Y\", \"matrix\": [[\"0.00\", \"-i\"], [\"i\", \"0.00\"]], \"params\": []}]}, 1.0);\n",
       "        init_display();\n",
       "    </script>\n",
       "\n",
       "</g>"
      ],
      "text/plain": [
       "<IPython.core.display.HTML object>"
      ]
     },
     "metadata": {},
     "output_type": "display_data"
    },
    {
     "data": {
      "application/javascript": [
       "        try {\n",
       "            generate_chunk_slices(\n",
       "                [[{\"index\": 0, \"qbits\": [0], \"ctrl\": 0, \"dag\": 0, \"gate\": \"RX\", \"matrix\": [[\"0.71\", \"-0.71i\"], [\"-0.71i\", \"0.71\"]], \"params\": [\"\\u03c0/2\"]}], [{\"index\": 1, \"qbits\": [0, 1], \"ctrl\": 1, \"dag\": 0, \"gate\": \"Y\", \"matrix\": [[\"0.00\", \"-i\"], [\"i\", \"0.00\"]], \"params\": []}], [{\"index\": 2, \"qbits\": [1], \"ctrl\": 0, \"dag\": 0, \"gate\": \"RX\", \"matrix\": [[\"0.71\", \"-0.71i\"], [\"-0.71i\", \"0.71\"]], \"params\": [\"\\u03c0/2\"]}], [{\"index\": 3, \"qbits\": [1, 2], \"ctrl\": 1, \"dag\": 0, \"gate\": \"Y\", \"matrix\": [[\"0.00\", \"-i\"], [\"i\", \"0.00\"]], \"params\": []}]], 0\n",
       "            );\n",
       "init_animations(width, 0);\n",
       "            } catch (err) {\n",
       "                $(\"#svg_button\").closest(\".output_area\").remove();\n",
       "                $(\".js-error\").remove();\n",
       "            }\n",
       "            $(\".output_area:not(:first-child)\").remove();\n"
      ],
      "text/plain": [
       "<IPython.core.display.Javascript object>"
      ]
     },
     "metadata": {},
     "output_type": "display_data"
    },
    {
     "data": {
      "application/javascript": [
       "    try {\n",
       "        init_animations(width, 0);\n",
       "        init_svg_print({\"nbqbits\": 3, \"slice-0\": [{\"index\": 0, \"qbits\": [0], \"ctrl\": 0, \"dag\": 0, \"gate\": \"RX\", \"matrix\": [[\"0.71\", \"-0.71i\"], [\"-0.71i\", \"0.71\"]], \"params\": [\"\\u03c0/2\"]}], \"slice-1\": [{\"index\": 1, \"qbits\": [0, 1], \"ctrl\": 1, \"dag\": 0, \"gate\": \"Y\", \"matrix\": [[\"0.00\", \"-i\"], [\"i\", \"0.00\"]], \"params\": []}], \"slice-2\": [{\"index\": 2, \"qbits\": [1], \"ctrl\": 0, \"dag\": 0, \"gate\": \"RX\", \"matrix\": [[\"0.71\", \"-0.71i\"], [\"-0.71i\", \"0.71\"]], \"params\": [\"\\u03c0/2\"]}], \"slice-3\": [{\"index\": 3, \"qbits\": [1, 2], \"ctrl\": 1, \"dag\": 0, \"gate\": \"Y\", \"matrix\": [[\"0.00\", \"-i\"], [\"i\", \"0.00\"]], \"params\": []}]}, width, 0);\n",
       "    } catch (err) {\n",
       "        console.log(\"The error blocking the display is: \" + err)\n",
       "    }\n",
       "$(\".output_area:not(:first-child)\").remove();\n"
      ],
      "text/plain": [
       "<IPython.core.display.Javascript object>"
      ]
     },
     "metadata": {},
     "output_type": "display_data"
    },
    {
     "name": "stdout",
     "output_type": "stream",
     "text": [
      "|0> 0.5000000000000002\n",
      "|3> 0.5000000000000002\n"
     ]
    }
   ],
   "source": [
    "from qat.lang.AQASM import QInt\n",
    "prog = Program()\n",
    "ancillas = prog.qalloc(1)\n",
    "qbits = prog.qalloc(2, class_type=QInt)\n",
    "prog.apply(routine, ancillas[0], qbits[0])\n",
    "prog.apply(routine, qbits[0:2])\n",
    "\n",
    "circ = prog.to_circ()\n",
    "%jsqatdisplay circ\n",
    "\n",
    "result = qpu.submit(circ.to_job(qubits=qbits))\n",
    "for sample in result:\n",
    "    print(sample.state, sample.probability)"
   ]
  },
  {
   "cell_type": "markdown",
   "id": "ca5ca5ee",
   "metadata": {
    "slideshow": {
     "slide_type": "slide"
    }
   },
   "source": [
    "## Measure an observable"
   ]
  },
  {
   "cell_type": "code",
   "execution_count": 50,
   "id": "bd60fe24",
   "metadata": {
    "slideshow": {
     "slide_type": "fragment"
    }
   },
   "outputs": [
    {
     "name": "stdout",
     "output_type": "stream",
     "text": [
      "<psi|Z|psi> = 0.0\n"
     ]
    }
   ],
   "source": [
    "from qat.core import Observable, Term\n",
    "\n",
    "observable = Observable(1, pauli_terms=[Term(1.0, \"Z\", [0])])\n",
    "\n",
    "prog = Program()\n",
    "qbits = prog.qalloc(1)\n",
    "H(qbits)\n",
    "circ = prog.to_circ()\n",
    "\n",
    "result = qpu.submit(circ.to_job(observable=observable))\n",
    "print(\"<psi|Z|psi> =\", result.value)"
   ]
  },
  {
   "cell_type": "markdown",
   "id": "e0e92a1b",
   "metadata": {
    "slideshow": {
     "slide_type": "slide"
    }
   },
   "source": [
    "## Measure an observable... without cheating"
   ]
  },
  {
   "cell_type": "code",
   "execution_count": 51,
   "id": "57ab136a",
   "metadata": {
    "slideshow": {
     "slide_type": "fragment"
    }
   },
   "outputs": [
    {
     "name": "stdout",
     "output_type": "stream",
     "text": [
      "<psi|Z|psi> ~ -0.27999999999999997 +/- 0.19967320239607028 \n"
     ]
    }
   ],
   "source": [
    "\n",
    "from qat.core import Observable, Term\n",
    "\n",
    "observable = Observable(1, pauli_terms=[Term(1.0, \"Z\", [0]), Term(1.0, \"Y\", [0])])\n",
    "\n",
    "prog = Program()\n",
    "qbits = prog.qalloc(1)\n",
    "H(qbits)\n",
    "circ = prog.to_circ()\n",
    "\n",
    "from qat.plugins import ObservableSplitter\n",
    "splitter = ObservableSplitter()\n",
    "result = (splitter|qpu).submit(circ.to_job(observable=observable, nbshots=50))\n",
    "print(\"<psi|Z|psi> ~ %s +/- %s \"%(result.value, result.error))"
   ]
  },
  {
   "cell_type": "markdown",
   "id": "b6defac7",
   "metadata": {
    "slideshow": {
     "slide_type": "slide"
    }
   },
   "source": [
    "## Create a parametric circuit and run a variational computation"
   ]
  },
  {
   "cell_type": "code",
   "execution_count": 52,
   "id": "2d1b58cb",
   "metadata": {
    "slideshow": {
     "slide_type": "fragment"
    }
   },
   "outputs": [
    {
     "data": {
      "text/html": [
       "\n",
       "<script>\n",
       "requirejs.config({\n",
       "    paths: {\n",
       "        d3: \"/custom/d3.min\"\n",
       "    }\n",
       "});\n",
       "\n",
       "require([\"d3\"], function(d3) {\n",
       "    window.d3 = d3;\n",
       "});\n",
       "</script>\n",
       "<script>\n",
       "_select = d3.select;\n",
       "\n",
       "d3.select21 = function(selection) {\n",
       "    return _select(\"#d3-cell-21\").select(selection);\n",
       "}\n",
       "d3.selectAll21 = function(selection) {\n",
       "    return _select(\"#d3-cell-21\").selectAll(selection);\n",
       "}\n",
       "</script>\n",
       "\n",
       "<g id=\"d3-cell-21\">\n",
       "        \n",
       "    <table id=\"circuit\"></table>\n",
       "\n",
       "    <button id=\"svg_button\">SVG export</button>\n",
       "\n",
       "    <div id=\"svg_wrapper\" hidden></div>\n",
       "\n",
       "    <script>\n",
       "        set_environment({\"nbqbits\": 2, \"slice-0\": [{\"index\": 0, \"qbits\": [0], \"ctrl\": 0, \"dag\": 0, \"gate\": \"H\", \"matrix\": [[\"0.71\", \"0.71\"], [\"0.71\", \"-0.71\"]], \"params\": []}], \"slice-1\": [{\"index\": 1, \"qbits\": [0, 1], \"ctrl\": 1, \"dag\": 0, \"gate\": \"CNOT\", \"matrix\": [[\"0.00\", \"1.00\"], [\"1.00\", \"0.00\"]], \"params\": []}], \"slice-2\": [{\"index\": 2, \"qbits\": [0], \"ctrl\": 0, \"dag\": 0, \"gate\": \"RY\", \"params\": [\"\\\\theta\"]}]}, 1.0);\n",
       "        init_display();\n",
       "    </script>\n",
       "\n",
       "</g>"
      ],
      "text/plain": [
       "<IPython.core.display.HTML object>"
      ]
     },
     "metadata": {},
     "output_type": "display_data"
    },
    {
     "data": {
      "application/javascript": [
       "        try {\n",
       "            generate_chunk_slices(\n",
       "                [[{\"index\": 0, \"qbits\": [0], \"ctrl\": 0, \"dag\": 0, \"gate\": \"H\", \"matrix\": [[\"0.71\", \"0.71\"], [\"0.71\", \"-0.71\"]], \"params\": []}], [{\"index\": 1, \"qbits\": [0, 1], \"ctrl\": 1, \"dag\": 0, \"gate\": \"CNOT\", \"matrix\": [[\"0.00\", \"1.00\"], [\"1.00\", \"0.00\"]], \"params\": []}], [{\"index\": 2, \"qbits\": [0], \"ctrl\": 0, \"dag\": 0, \"gate\": \"RY\", \"params\": [\"\\\\theta\"]}]], 0\n",
       "            );\n",
       "init_animations(width, 0);\n",
       "            } catch (err) {\n",
       "                $(\"#svg_button\").closest(\".output_area\").remove();\n",
       "                $(\".js-error\").remove();\n",
       "            }\n",
       "            $(\".output_area:not(:first-child)\").remove();\n"
      ],
      "text/plain": [
       "<IPython.core.display.Javascript object>"
      ]
     },
     "metadata": {},
     "output_type": "display_data"
    },
    {
     "data": {
      "application/javascript": [
       "    try {\n",
       "        init_animations(width, 0);\n",
       "        init_svg_print({\"nbqbits\": 2, \"slice-0\": [{\"index\": 0, \"qbits\": [0], \"ctrl\": 0, \"dag\": 0, \"gate\": \"H\", \"matrix\": [[\"0.71\", \"0.71\"], [\"0.71\", \"-0.71\"]], \"params\": []}], \"slice-1\": [{\"index\": 1, \"qbits\": [0, 1], \"ctrl\": 1, \"dag\": 0, \"gate\": \"CNOT\", \"matrix\": [[\"0.00\", \"1.00\"], [\"1.00\", \"0.00\"]], \"params\": []}], \"slice-2\": [{\"index\": 2, \"qbits\": [0], \"ctrl\": 0, \"dag\": 0, \"gate\": \"RY\", \"params\": [\"\\\\theta\"]}]}, width, 0);\n",
       "    } catch (err) {\n",
       "        console.log(\"The error blocking the display is: \" + err)\n",
       "    }\n",
       "$(\".output_area:not(:first-child)\").remove();\n"
      ],
      "text/plain": [
       "<IPython.core.display.Javascript object>"
      ]
     },
     "metadata": {},
     "output_type": "display_data"
    },
    {
     "name": "stdout",
     "output_type": "stream",
     "text": [
      "Precision reached ( 0.0001 ), iteration number = 71\n",
      "Minimum variational energy: -1.5\n"
     ]
    },
    {
     "data": {
      "image/png": "[encoded data removed]",
      "text/plain": [
       "<Figure size 432x288 with 1 Axes>"
      ]
     },
     "metadata": {
      "needs_background": "light"
     },
     "output_type": "display_data"
    }
   ],
   "source": [
    "from qat.lang.AQASM import RY\n",
    "prog = Program()\n",
    "qbits = prog.qalloc(2)\n",
    "theta = prog.new_var(float, \"\\\\theta\")\n",
    "H(qbits[0])\n",
    "CNOT(qbits)\n",
    "RY(theta)(qbits[0])\n",
    "circ = prog.to_circ()\n",
    "%jsqatdisplay circ\n",
    "\n",
    "observable = Observable(2, pauli_terms=[Term(0.5, \"XX\", [0, 1]), Term(0.5, \"YY\", [0, 1]), Term(0.5, \"ZZ\", [0, 1])])\n",
    "\n",
    "from qat.plugins import SPSAMinimizePlugin\n",
    "spsa = SPSAMinimizePlugin(x0=[0.3])\n",
    "stack = spsa | splitter | qpu\n",
    "\n",
    "result = stack.submit(circ.to_job(observable=observable, nbshots=1000))\n",
    "print(\"Minimum variational energy:\", result.value)\n",
    "\n",
    "plt.plot(eval(result.meta_data[\"optimization_trace\"]))\n",
    "plt.ylabel(\"variational energy\")\n",
    "plt.xlabel(\"variational step\");"
   ]
  },
  {
   "cell_type": "markdown",
   "id": "da2d45ea",
   "metadata": {
    "slideshow": {
     "slide_type": "slide"
    }
   },
   "source": [
    "## Run a noisy simulation with depolarizing noise"
   ]
  },
  {
   "cell_type": "code",
   "execution_count": 53,
   "id": "d8022ce3",
   "metadata": {
    "slideshow": {
     "slide_type": "fragment"
    }
   },
   "outputs": [
    {
     "name": "stdout",
     "output_type": "stream",
     "text": [
      "Minimum variational energy: -1.3744999999999998\n"
     ]
    },
    {
     "data": {
      "image/png": "[encoded data removed]",
      "text/plain": [
       "<Figure size 432x288 with 1 Axes>"
      ]
     },
     "metadata": {
      "needs_background": "light"
     },
     "output_type": "display_data"
    }
   ],
   "source": [
    "from depolarizing_plugin_vec import DepolarizingPluginVec\n",
    "plugin = DepolarizingPluginVec(prob_1qb=0.01, prob_2qb=0.02)\n",
    "from qat.qpus import PyLinalg\n",
    "qpu = PyLinalg()\n",
    "noisy_qpu = plugin | qpu\n",
    "from qat.plugins import ScipyMinimizePlugin\n",
    "from qat.plugins import ObservableSplitter\n",
    "splitter = ObservableSplitter()\n",
    "spsa = SPSAMinimizePlugin(x0=[0.3])\n",
    "scipy = ScipyMinimizePlugin(x0=[0.3])\n",
    "noisy_stack = scipy | noisy_qpu\n",
    "noisy_stack = spsa | splitter | noisy_qpu\n",
    "#noisy_stack = spsa | splitter | qpu\n",
    "\n",
    "noisy_result = noisy_stack.submit(circ.to_job(observable=observable, nbshots=1000))\n",
    "print(\"Minimum variational energy:\", noisy_result.value)\n",
    "\n",
    "plt.plot(eval(noisy_result.meta_data[\"optimization_trace\"]), label=\"noisy QPU\")\n",
    "plt.plot(eval(result.meta_data[\"optimization_trace\"]), label=\"perfect QPU\")\n",
    "plt.legend(loc=\"best\")\n",
    "plt.ylabel(\"variational energy\")\n",
    "plt.xlabel(\"variational step\");"
   ]
  }
 ],
 "metadata": {
  "celltoolbar": "Diaporama",
  "kernelspec": {
   "display_name": "Python 3 (ipykernel)",
   "language": "python",
   "name": "python3"
  },
  "language_info": {
   "codemirror_mode": {
    "name": "ipython",
    "version": 3
   },
   "file_extension": ".py",
   "mimetype": "text/x-python",
   "name": "python",
   "nbconvert_exporter": "python",
   "pygments_lexer": "ipython3",
   "version": "3.8.3"
  }
 },
 "nbformat": 4,
 "nbformat_minor": 5
}

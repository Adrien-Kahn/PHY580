{
 "cells": [
  {
   "cell_type": "code",
   "execution_count": 21,
   "id": "4c8206d8",
   "metadata": {
    "slideshow": {
     "slide_type": "skip"
    }
   },
   "outputs": [],
   "source": [
    "import numpy as np\n",
    "import matplotlib.pyplot as plt"
   ]
  },
  {
   "cell_type": "markdown",
   "id": "04c3d40c",
   "metadata": {
    "slideshow": {
     "slide_type": "slide"
    }
   },
   "source": [
    "# Computing the energy of a hydrogen molecule on a superconducting quantum processor\n",
    "\n",
    "The goal of this project is to understand how to compute the ground state energy of a hydrogen molecule using a \"noisy\" quantum computer, namely a quantum computer with physical errors. We are going to learn about two main methods to perform this task by following a recent study by O'Malley et al from the Google Quantum AI team, published in the Physical Review X journal. The paper can be downloaded from arXiv at: http://arxiv.org/abs/1512.06860 (but you should have received a printed version of it).\n",
    "\n",
    "\n",
    "The present Jupyter notebook will allow you to understand part of O'Malley et al's study. You will in particular be able to rewrite the quantum circuits used by the scientists and run perfect and noisy simulations of the quantum algorithms described in the paper. The goal of this session is to understand the pros and cons of each method and get a better understanding of hardware challenges."
   ]
  },
  {
   "cell_type": "markdown",
   "id": "b5f34ad5",
   "metadata": {
    "slideshow": {
     "slide_type": "slide"
    }
   },
   "source": [
    "## Instructions\n",
    "\n",
    "During the first session (Lecture n°7), each group (from 1 to 4) will focus on different aspects of the study:\n",
    "\n",
    "- **Group 1**: Variational Quantum Eigensolving (VQE), with a deeper focus on hardware noise\n",
    "- **Group 2**: Variational Quantum Eigensolving (VQE), with an extension to an error mitigation method\n",
    "- **Group 3**: Quantum Phase Estimation (QPE)\n",
    "- **Group 4**: Iterative Quantum Phase Estimation (IQPE)\n",
    "\n",
    "\n",
    "During the second session (Lecture n°8), each group will give a **20-minute presentation** to the other three groups, so that at the end of the presentations all groups will have the complete picture of what one can do to study the dihydrogen molecule.\n",
    "\n",
    "Here are a few guidelines for this presentation:\n",
    "\n",
    "- **All the students in the group should have a more or less equal speaking time during the presentation.**\n",
    "- Showing plots and explanatory diagrams will be appreciated\n",
    "- Equations should be kept to a minimum (but sometimes showing one equation is simpler than a long explanation!)\n",
    "- Not more than 1 slide per minute!\n",
    "- Communicating with other groups is allowed and recommended, provided your group tackles its own topic during the presentation!\n",
    "- Looking up unknown aspects on the internet is allowed and recommended!\n",
    "\n",
    "\n",
    "<div class=\"alert alert-block alert-info\">\n",
    "    \n",
    "The questions below (**starting with a star: (*)**) will guide you and should ideally be addressed during the presentation. The answers are either in the paper by O'Malley et al, or can be answered by writing a quantum program. I will also be in the different rooms to help you answer the questions. Questions with a sharp sign (**(#)**) are difficult and optional questions.\n",
    "\n",
    "</div>\n",
    "\n",
    "It is recommended to read the article (without focussing on all the details!). If you have time left at the end of the session, feel free to look at the sections of other groups to learn about other ways to tackle the problem!\n",
    "\n",
    "\n",
    "Finally, at the beginning of the second session (Lecture n°8), each group will **hand in a Jupyter notebook with the code they used to prepare the presentation** (one notebook per group!). \n",
    "\n",
    "The final grade will take into account the presentation (3/4 of the grade) and the code (1/4 of the grade)."
   ]
  },
  {
   "cell_type": "markdown",
   "id": "dab98734",
   "metadata": {
    "slideshow": {
     "slide_type": "slide"
    }
   },
   "source": [
    "## Quantum programming environment\n",
    "\n",
    "To execute the quantum programs, you will need to install the Python library called **myQLM** on your laptop. It can be installed by running the command\n",
    "\n",
    "``pip install myqlm``\n",
    "\n",
    "Then, you need to clone the course's repository to have access to the notebook and some helper functions:\n",
    "\n",
    "``git clone https://github.com/tayral/phy580_2022``\n",
    "\n",
    "It is highly advised to use the online documentation of myQLM at https://myqlm.github.io.\n",
    "\n",
    "\n",
    "Should you encounter problems with the installation (which may happen for Mac users using Anaconda), you can instead use \"myBinder\" to run the computations:\n",
    "[![Binder](https://mybinder.org/badge_logo.svg)](https://mybinder.org/v2/gh/tayral/phy580_2022/HEAD)\n",
    "\n",
    "... and open the ``dihydrogen.ipynb`` notebook.\n",
    "\n",
    "Some pieces of code have already been written to help you. They are located in the same github repository as the one where you found this notebook:\n",
    "\n",
    "- ``omalley_utils.py``: contains a function to load the Hamiltonians for various bond distances\n",
    "- ``qpe_utils.py``: contains functions that can be useful for quantum phase estimation (groups 3 and 4)\n",
    "- ``tuto_utils.py``: contains a function to compute the matrix representation of a Hamiltonian\n",
    "- ``depolarizing_plugin_vec.py``: contains a \"plugin\" for noisy simulation\n",
    "\n",
    "Reminder: in a Jupyter notebook, to print the documentation of a given function (say ``my_function``), you just have to type ``my_function?`` in a cell and press MAJ+ENTER.\n",
    "\n",
    "If you encounter programming issues or come up with physics questions during the session, feel free to ask me!"
   ]
  },
  {
   "cell_type": "markdown",
   "id": "f5ede82c",
   "metadata": {
    "slideshow": {
     "slide_type": "slide"
    }
   },
   "source": [
    "## The Hamiltonian of the dihydrogen molecule: from fermions to qubits (ALL GROUPS)\n",
    "\n",
    "The goal of this work is to determine the lowest eigenvalue (ground state) of the Hamiltonian $H(d)$ of the dihydrogen molecule for various bond distances $d$.\n",
    "\n",
    "The Hamiltonian of H$_2$ describes the kinetic and interaction energies of the nucleus and electrons of the molecule. Since the nuclei are assumed to be at fixed distance $d$ (Born-Oppenheimer approximation), only electronic operators appear in the formula for the total energy (the nuclei only contribute a constant known offset to this energy). Since electrons are fermions, these creation and annihilation operators obey a \"fermionic\" algebra that ensures that the corresponding wavefunctions anticommute upon exchange of two particles. \n",
    "\n",
    "In order to handle this Hamiltonian with a quantum computer, O'Malley et al had to translate this Hamiltonian written in a fermionic language to a \"qubit\" Hamiltonian, namely written in terms of Pauli operators, or in other words in a spin-1/2 algebra: this is the natural language for quantum computers, whose building blocks are **qubits**, aka **spin-1/2**, aka **two-level systems**!\n",
    "\n",
    "After these transformations (called \"Bravyi-Kitaev transformations\"), the Hamiltonian ends up in the following form:\n",
    "\n",
    "$$H = \\lambda_0 I + \\sum_{i=1}^{M} \\lambda_i P_i$$\n",
    "\n",
    "with $\\lambda_i$ real coefficients, and $P_i$ products of Pauli operators. For instance, $P_i = \\sigma^x_{0}$ or $P_i = \\sigma^y_{2} \\sigma^z_{4}$. From now on, we will denote $\\sigma^x$ by $X$, and so on.\n",
    "\n",
    "\n",
    "For the H$_2$ molecule, the Hamiltonian takes the form:\n",
    "$$H = \\lambda_0 I + \\lambda_1 Z_0 + \\lambda_2 Z_1 + \\lambda_3 Z_0 Z_1 + \\lambda_4 Y_0 Y_1 + \\lambda_5 X_0 X_1 $$\n",
    "\n",
    "In particular, we notice that the Hamiltonian acts on two qubits.\n",
    "\n",
    "The $\\lambda_i$ coefficients depend on the bond distance $d$.\n",
    "\n",
    "<div class=\"alert alert-block alert-info\">\n",
    "    \n",
    "- **(*)** If $H$ were represented as a matrix, what would its size be? \n",
    "- **(*)** In general, if the Hamiltonian describes $N$ fermionic orbitals, how many qubits should it correspond to?\n",
    "- **(*)** For the H$_2$ molecule, how many orbitals do we need in principle? Does the number of qubits O'Malley take in their study correspond to what you expect?\n",
    "- **(#)** Why? (Hint: look at the explanation after Equation A.5. This question will be easier to answer at the end of the session, once you know about the methods)\n",
    "</div>\n",
    "\n",
    "## Loading the data (ALL GROUPS)\n",
    "\n",
    "In the following cell, we load these coefficients and products and store them in a ``Observable`` object. We also load, for future use, a list of times $t_0$ (used in quantum phase estimation). "
   ]
  },
  {
   "cell_type": "code",
   "execution_count": 1,
   "id": "abc00ec3",
   "metadata": {},
   "outputs": [],
   "source": [
    "from omalley_utils import load_omalley_data_ordered\n",
    "hamilt, qpe_t0 = load_omalley_data_ordered(\"data/omalley_data_v2.csv\", keep_Z0Z1=False)"
   ]
  },
  {
   "cell_type": "markdown",
   "id": "777d6ea6",
   "metadata": {},
   "source": [
    "## 1. Exact result by full diagonalization (ALL GROUPS)\n",
    "\n",
    "The Hamiltonian we are studying acts on a small number of qubits. Therefore, we can compute its eigenvalues explicitly (contrary to more complex molecules where an exact computation on a classical computer is impossible). The minimum eigenvalue will serve as a reference for the approximate ground state energy that we will compute with a quantum computer in the sections below.\n",
    "\n",
    "To perform the diagonalization, we first construct the matrix representation of the Hamiltonian using the ``make_matrix`` function. Note that its size is exponential in the number of qubits!\n",
    "\n",
    "<div class=\"alert alert-block alert-info\">\n",
    "    \n",
    "- **(*)** How does the ``make_matrix`` function work? In other words, how would you construct a matrix representation of a product of Pauli operators $P_i$ acting on different qubits?\n",
    "    \n",
    "</div>\n",
    "\n",
    "In the cell below, we perform the diagonalization using ``np.linalg.eig``."
   ]
  },
  {
   "cell_type": "code",
   "execution_count": 44,
   "id": "5e5acb9d",
   "metadata": {},
   "outputs": [
    {
     "name": "stdout",
     "output_type": "stream",
     "text": [
      "\n"
     ]
    },
    {
     "data": {
      "image/png": "[encoded data removed]",
      "text/plain": [
       "<Figure size 432x288 with 1 Axes>"
      ]
     },
     "metadata": {
      "needs_background": "light"
     },
     "output_type": "display_data"
    }
   ],
   "source": [
    "from tuto_utils import make_matrix\n",
    "\n",
    "l_d = []\n",
    "l_GS = []\n",
    "\n",
    "for d in hamilt.keys():\n",
    "    \n",
    "    H = make_matrix(hamilt[d])\n",
    "    eigvals, eigvecs = np.linalg.eigh(H)\n",
    "    \n",
    "    l_d.append(d)\n",
    "    l_GS.append(eigvals[0])\n",
    "\n",
    "plt.plot(l_d, l_GS)\n",
    "plt.xlabel(\"$d$\")\n",
    "plt.ylabel(\"$E_0$\")\n",
    "plt.title(\"Ground state energy as a function of interatomic distant with ED\")\n",
    "print()"
   ]
  },
  {
   "cell_type": "markdown",
   "id": "c4a2457a",
   "metadata": {},
   "source": [
    "\n",
    "\n",
    "<div class=\"alert alert-block alert-info\">\n",
    "\n",
    "- **(*)** Can you describe the curve you obtained? Can you explain the various regimes (energy that increases/decreases with $R$)? What do you expect the distance between two hydrogen atoms in a dihydrogen molecule to be?\n",
    "\n",
    "- **(*)** What is the computational complexity of diagonalizing a matrix of size $N$? What is the computational complexity of finding the ground state of a molecule with $n$ fermionic orbitals? Is this size a problem?\n",
    "    \n",
    "- **(#)** Do you know of ways to go around this problem?\n",
    "    \n",
    "</div>\n",
    "\n",
    "\n",
    "Group 3 can jump to [Section 3 on QPE](#sec:qpe).\n",
    "Group 4 can jump to [Section 4 on IQPE](#sec:iqpe)."
   ]
  },
  {
   "cell_type": "markdown",
   "id": "9f86c8ab",
   "metadata": {},
   "source": [
    "For a hydrogen atom, we would get a similar result: at low distance, the strong force prevents the electron from entering the atom and at high distance, it is submitted to a potential in $\\frac1r$. For 2 atoms, the interpretation is similar: at small distance, the nuclei are kept apart by the strong force. At high distance, each atom behaves almost independantly, and we get a potential in $\\frac1r$ that correspond to the attraction of the electron of the first nucleus towards the second nucleus, and the other way around."
   ]
  },
  {
   "cell_type": "markdown",
   "id": "88dabe0a",
   "metadata": {},
   "source": [
    "Direct diagonalization has complexity $\\mathcal{O}(N^3)$\n",
    "\n",
    "Here $N = 2^{2n}$, big problem.\n",
    "\n",
    "Lanczos faster."
   ]
  },
  {
   "cell_type": "markdown",
   "id": "4f9f9b4a",
   "metadata": {},
   "source": [
    "## 2. Variational Quantum Eigensolving (GROUPS 1 AND 2)\n",
    "\n",
    "The goal of Variational Quantum Eigensolving (VQE) is to find an approximate ground-state energy by choosing a smart family of states. They are called variational states, or \"ansatz\" states, and are defined as\n",
    "$$|\\psi(\\vec{\\theta}) \\rangle = U(\\vec{\\theta}) |\\psi_0\\rangle,$$\n",
    "with $U(\\vec{\\theta})$ a circuit depending on parameters $\\vec{\\theta}$ (for instance the angles of rotation gates $R_x(\\theta)$), and $|\\psi_0\\rangle$ an easy-to-prepare initial state. In the following, I will drop the arrow on $\\vec{\\theta}$, so that $\\theta$ may denote several scalar parameters.\n",
    "\n",
    "Once they are prepared by the quantum processor (or **quantum processing unit**, QPU), the average energy of the Hamiltonian at hand $H(d)$ for this state, $$E(\\theta)_r \\equiv \\langle \\psi(\\theta) | H(d) | \\psi(\\theta)\\rangle,$$ can be estimated using the QPU. A classical optimizer then uses $E(\\theta)_r$ to find the optimal parameters $\\theta^*$ that minimize this energy.\n",
    "\n",
    "In other words, VQE iteratively computes $$E(d) = \\min_\\theta \\langle \\psi(\\theta) | H(d) | \\psi(\\theta)\\rangle.$$ \n",
    "\n",
    "### Choice of ansatz\n",
    "\n",
    "The choice of ansatz is crucial in VQE. It is usually motivated by physical arguments.\n",
    "\n",
    "\n",
    "\n",
    "\n",
    "In O'Malley et al, the ansatz is chosen to be\n",
    "$$|\\psi(\\theta) \\rangle = e^{-i\\theta X_0 Y_1} |01\\rangle.$$\n",
    "This ansatz is inspired from quantum chemistry theory and goes under the name of \"Unitary Coupled Cluster\" (UCC) ansatz.\n",
    "\n",
    "\n",
    "<div class=\"alert alert-block alert-info\">\n",
    "    \n",
    "- **(*)** Why do O'Malley et al start from state $|01\\rangle$? What is the name of this state in chemistry?\n",
    "- **(*)** What are the inspirations behind the choice of a variational state? (for instance, what is the influence of increasing the number of variational parameters?)\n",
    "- **(*)** What hardware constraints should one take into account when picking a variational state?\n",
    "</div>\n",
    "    \n",
    "    \n",
    "We now want to design a quantum circuit that creates such a state. O'Malley et al take the following variational circuit:\n",
    "\n",
    "<div align=\"center\"><img src=\"data/omalley_fig1.png\" width=\"50%\"></div>\n",
    "\n",
    "<div class=\"alert alert-block alert-info\">\n",
    "    \n",
    "- **(*)** Can you prove that this circuit indeed corresponds to our ansatz $e^{-i\\theta X_0 Y_1} |01\\rangle$ (up to a global phase)?\n",
    "</div>\n",
    "\n",
    "In the next cell we create the ansatz circuit (see https://myqlm.github.io/getting_started.html#a-simple-variational-algorithm for a simple example).\n",
    "\n",
    "We note that since $\\theta$ is a variable, we need to declare it as such.\n",
    "\n",
    "\n",
    "(Note: you can safely replace the $R_x(\\pi)$ gate with a $X$ gate as they are related by a global phase: $R_x(\\pi) = i X$)"
   ]
  },
  {
   "cell_type": "code",
   "execution_count": 38,
   "id": "ed34e899",
   "metadata": {},
   "outputs": [
    {
     "data": {
      "text/html": [
       "\n",
       "<script>\n",
       "requirejs.config({\n",
       "    paths: {\n",
       "        d3: \"/custom/d3.min\"\n",
       "    }\n",
       "});\n",
       "\n",
       "require([\"d3\"], function(d3) {\n",
       "    window.d3 = d3;\n",
       "});\n",
       "</script>\n",
       "<script>\n",
       "_select = d3.select;\n",
       "\n",
       "d3.select6 = function(selection) {\n",
       "    return _select(\"#d3-cell-6\").select(selection);\n",
       "}\n",
       "d3.selectAll6 = function(selection) {\n",
       "    return _select(\"#d3-cell-6\").selectAll(selection);\n",
       "}\n",
       "</script>\n",
       "\n",
       "<g id=\"d3-cell-6\">\n",
       "        \n",
       "    <table id=\"circuit\"></table>\n",
       "\n",
       "    <button id=\"svg_button\">SVG export</button>\n",
       "\n",
       "    <div id=\"svg_wrapper\" hidden></div>\n",
       "\n",
       "    <script>\n",
       "        set_environment({\"nbqbits\": 2, \"slice-0\": [{\"index\": 1, \"qbits\": [0], \"ctrl\": 0, \"dag\": 0, \"gate\": \"RY\", \"matrix\": [[\"0.71\", \"-0.71\"], [\"0.71\", \"0.71\"]], \"params\": [\"\\u03c0/2\"]}, {\"index\": 0, \"qbits\": [1], \"ctrl\": 0, \"dag\": 0, \"gate\": \"X\", \"matrix\": [[\"0.00\", \"1.00\"], [\"1.00\", \"0.00\"]], \"params\": []}], \"slice-1\": [{\"index\": 2, \"qbits\": [1], \"ctrl\": 0, \"dag\": 0, \"gate\": \"RX\", \"matrix\": [[\"0.71\", \"-0.71i\"], [\"-0.71i\", \"0.71\"]], \"params\": [\"\\u03c0/2\"]}], \"slice-2\": [{\"index\": 3, \"qbits\": [0, 1], \"ctrl\": 1, \"dag\": 0, \"gate\": \"CNOT\", \"matrix\": [[\"0.00\", \"1.00\"], [\"1.00\", \"0.00\"]], \"params\": []}], \"slice-3\": [{\"index\": 4, \"qbits\": [1], \"ctrl\": 0, \"dag\": 0, \"gate\": \"RZ\", \"params\": [\"\\\\theta\"]}], \"slice-4\": [{\"index\": 5, \"qbits\": [0, 1], \"ctrl\": 1, \"dag\": 0, \"gate\": \"CNOT\", \"matrix\": [[\"0.00\", \"1.00\"], [\"1.00\", \"0.00\"]], \"params\": []}], \"slice-5\": [{\"index\": 7, \"qbits\": [1], \"ctrl\": 0, \"dag\": 0, \"gate\": \"RX\", \"matrix\": [[\"0.71\", \"-0.71i\"], [\"-0.71i\", \"0.71\"]], \"params\": [\"\\u03c0/2\"]}, {\"index\": 6, \"qbits\": [0], \"ctrl\": 0, \"dag\": 0, \"gate\": \"RY\", \"matrix\": [[\"0.71\", \"-0.71\"], [\"0.71\", \"0.71\"]], \"params\": [\"\\u03c0/2\"]}]}, 1.0);\n",
       "        init_display();\n",
       "    </script>\n",
       "\n",
       "</g>"
      ],
      "text/plain": [
       "<IPython.core.display.HTML object>"
      ]
     },
     "metadata": {},
     "output_type": "display_data"
    },
    {
     "data": {
      "application/javascript": [
       "        try {\n",
       "            generate_chunk_slices(\n",
       "                [[{\"index\": 1, \"qbits\": [0], \"ctrl\": 0, \"dag\": 0, \"gate\": \"RY\", \"matrix\": [[\"0.71\", \"-0.71\"], [\"0.71\", \"0.71\"]], \"params\": [\"\\u03c0/2\"]}, {\"index\": 0, \"qbits\": [1], \"ctrl\": 0, \"dag\": 0, \"gate\": \"X\", \"matrix\": [[\"0.00\", \"1.00\"], [\"1.00\", \"0.00\"]], \"params\": []}], [{\"index\": 2, \"qbits\": [1], \"ctrl\": 0, \"dag\": 0, \"gate\": \"RX\", \"matrix\": [[\"0.71\", \"-0.71i\"], [\"-0.71i\", \"0.71\"]], \"params\": [\"\\u03c0/2\"]}], [{\"index\": 3, \"qbits\": [0, 1], \"ctrl\": 1, \"dag\": 0, \"gate\": \"CNOT\", \"matrix\": [[\"0.00\", \"1.00\"], [\"1.00\", \"0.00\"]], \"params\": []}], [{\"index\": 4, \"qbits\": [1], \"ctrl\": 0, \"dag\": 0, \"gate\": \"RZ\", \"params\": [\"\\\\theta\"]}], [{\"index\": 5, \"qbits\": [0, 1], \"ctrl\": 1, \"dag\": 0, \"gate\": \"CNOT\", \"matrix\": [[\"0.00\", \"1.00\"], [\"1.00\", \"0.00\"]], \"params\": []}], [{\"index\": 7, \"qbits\": [1], \"ctrl\": 0, \"dag\": 0, \"gate\": \"RX\", \"matrix\": [[\"0.71\", \"-0.71i\"], [\"-0.71i\", \"0.71\"]], \"params\": [\"\\u03c0/2\"]}, {\"index\": 6, \"qbits\": [0], \"ctrl\": 0, \"dag\": 0, \"gate\": \"RY\", \"matrix\": [[\"0.71\", \"-0.71\"], [\"0.71\", \"0.71\"]], \"params\": [\"\\u03c0/2\"]}]], 0\n",
       "            );\n",
       "init_animations(width, 0);\n",
       "            } catch (err) {\n",
       "                $(\"#svg_button\").closest(\".output_area\").remove();\n",
       "                $(\".js-error\").remove();\n",
       "            }\n",
       "            $(\".output_area:not(:first-child)\").remove();\n"
      ],
      "text/plain": [
       "<IPython.core.display.Javascript object>"
      ]
     },
     "metadata": {},
     "output_type": "display_data"
    },
    {
     "data": {
      "application/javascript": [
       "    try {\n",
       "        init_animations(width, 0);\n",
       "        init_svg_print({\"nbqbits\": 2, \"slice-0\": [{\"index\": 1, \"qbits\": [0], \"ctrl\": 0, \"dag\": 0, \"gate\": \"RY\", \"matrix\": [[\"0.71\", \"-0.71\"], [\"0.71\", \"0.71\"]], \"params\": [\"\\u03c0/2\"]}, {\"index\": 0, \"qbits\": [1], \"ctrl\": 0, \"dag\": 0, \"gate\": \"X\", \"matrix\": [[\"0.00\", \"1.00\"], [\"1.00\", \"0.00\"]], \"params\": []}], \"slice-1\": [{\"index\": 2, \"qbits\": [1], \"ctrl\": 0, \"dag\": 0, \"gate\": \"RX\", \"matrix\": [[\"0.71\", \"-0.71i\"], [\"-0.71i\", \"0.71\"]], \"params\": [\"\\u03c0/2\"]}], \"slice-2\": [{\"index\": 3, \"qbits\": [0, 1], \"ctrl\": 1, \"dag\": 0, \"gate\": \"CNOT\", \"matrix\": [[\"0.00\", \"1.00\"], [\"1.00\", \"0.00\"]], \"params\": []}], \"slice-3\": [{\"index\": 4, \"qbits\": [1], \"ctrl\": 0, \"dag\": 0, \"gate\": \"RZ\", \"params\": [\"\\\\theta\"]}], \"slice-4\": [{\"index\": 5, \"qbits\": [0, 1], \"ctrl\": 1, \"dag\": 0, \"gate\": \"CNOT\", \"matrix\": [[\"0.00\", \"1.00\"], [\"1.00\", \"0.00\"]], \"params\": []}], \"slice-5\": [{\"index\": 7, \"qbits\": [1], \"ctrl\": 0, \"dag\": 0, \"gate\": \"RX\", \"matrix\": [[\"0.71\", \"-0.71i\"], [\"-0.71i\", \"0.71\"]], \"params\": [\"\\u03c0/2\"]}, {\"index\": 6, \"qbits\": [0], \"ctrl\": 0, \"dag\": 0, \"gate\": \"RY\", \"matrix\": [[\"0.71\", \"-0.71\"], [\"0.71\", \"0.71\"]], \"params\": [\"\\u03c0/2\"]}]}, width, 0);\n",
       "    } catch (err) {\n",
       "        console.log(\"The error blocking the display is: \" + err)\n",
       "    }\n",
       "$(\".output_area:not(:first-child)\").remove();\n"
      ],
      "text/plain": [
       "<IPython.core.display.Javascript object>"
      ]
     },
     "metadata": {},
     "output_type": "display_data"
    }
   ],
   "source": [
    "from qat.lang.AQASM import Program, X, RY, RX, RZ, CNOT\n",
    "\n",
    "prog = Program()\n",
    "# we declare a variable 'theta'\n",
    "theta = prog.new_var(float, \"\\\\theta\")\n",
    "# we allocate 2 qubits\n",
    "qbits = prog.qalloc(2)\n",
    "\n",
    "prog.apply(X, qbits[1])\n",
    "prog.apply(RY(np.pi / 2), qbits[0])\n",
    "prog.apply(RX(np.pi / 2), qbits[1])\n",
    "prog.apply(CNOT, qbits)\n",
    "prog.apply(RZ(theta), qbits[1])\n",
    "prog.apply(CNOT, qbits)\n",
    "prog.apply(RY(np.pi / 2), qbits[0])\n",
    "prog.apply(RX(np.pi / 2), qbits[1])\n",
    "\n",
    "circ = prog.to_circ()\n",
    "%jsqatdisplay circ"
   ]
  },
  {
   "cell_type": "markdown",
   "id": "1df572fe",
   "metadata": {},
   "source": [
    "### 2.a) Execution on perfect qubits\n",
    "\n",
    "We now perform the actual VQE simulation with a perfect (simulated) quantum computer, which we will also refer to as a \"Quantum Processing Unit\" (QPU).\n",
    "\n",
    "Intuitively, a QPU may be regarded a black box that takes, as an input, a quantum job comprising a quantum circuit $U$ and an observable $H$ and returns, as an output, an estimate of $E = \\langle 0\\dots 0 | U^\\dagger H U |0\\dots 0\\rangle$.\n",
    "\n",
    "Using this QPU, we could write the optimization loop ourselves, in the form of a *for* loop that proposes new parameters $\\theta_{i+1}$ after the computation of $E(\\theta_i)$). Instead, we use existing tools performing this optimization natively.\n",
    "\n",
    "We do this by constructing a \"smart\" QPU that, instead of accepting simple jobs $(U, H)$, accepts parametric jobs $(U(\\theta), H)$, and whose task is to minimize $E = \\langle 0\\dots 0 | U^\\dagger(\\theta) H U(\\theta) |0\\dots 0\\rangle$.\n",
    "\n",
    "This smart QPU is constructed by prepending to the simple QPU a so-called \"plugin\" that carries out the optimization loop (with a method that can be chosen at will).\n",
    "\n",
    "Let us note that the ``qpu`` object of the stack can be replaced with a \"true\" QPU, i.e a true quantum processor! (see https://myqlm.github.io/myqlm_specific/qiskit.html#module-qat.interop.qiskit.providers if you want to try with an IBM processor!)\n",
    "\n",
    "#### One VQE execution for a given bond distance\n",
    "\n",
    "Let us take a first example for a given bond distance $d=0.2 A$ (taking inspiration from https://myqlm.github.io/getting_started.html#a-simple-variational-algorithm):"
   ]
  },
  {
   "cell_type": "code",
   "execution_count": 68,
   "id": "8e941037",
   "metadata": {},
   "outputs": [
    {
     "data": {
      "text/plain": [
       "Text(0.5, 0, 'variational step')"
      ]
     },
     "execution_count": 68,
     "metadata": {},
     "output_type": "execute_result"
    },
    {
     "data": {
      "image/png": "[encoded data removed]",
      "text/plain": [
       "<Figure size 432x288 with 1 Axes>"
      ]
     },
     "metadata": {
      "needs_background": "light"
     },
     "output_type": "display_data"
    }
   ],
   "source": [
    "from qat.qpus import PyLinalg\n",
    "from qat.plugins import ScipyMinimizePlugin\n",
    "qpu = PyLinalg()\n",
    "plugin = ScipyMinimizePlugin(method='Nelder-Mead')\n",
    "\n",
    "smart_qpu = plugin | qpu\n",
    "\n",
    "# run the variational computation\n",
    "job = circ.to_job(observable = hamilt[0.2], nbshots = 100)\n",
    "result = smart_qpu.submit(job)\n",
    "\n",
    "# plot the variational energy as a function of the optimization step\n",
    "plt.plot(eval(result.meta_data[\"optimization_trace\"]))\n",
    "plt.ylabel(\"variational energy\")\n",
    "plt.xlabel(\"variational step\")"
   ]
  },
  {
   "cell_type": "markdown",
   "id": "969ffcf4",
   "metadata": {},
   "source": [
    "\n",
    "\n",
    "<div class=\"alert alert-block alert-info\">\n",
    "    \n",
    "- **(*)** Does the result depend on the classical optimizer used? What happens when you change \"Nelder-Mead\" to another scipy optimizer (check the documentation of scipy.optimize.minimize: https://docs.scipy.org/doc/scipy/reference/generated/scipy.optimize.minimize.html)?\n",
    "\n",
    "- **(*)** On a real QPU, how is the average energy of a given state, $\\langle \\psi | H|\\psi \\rangle$, measured? (how do we handle the fact that our $H$ is a sum of (possibly) non-commuting Pauli observables?)\n",
    "\n",
    "- **(*)** Why do we expect a statistical error on this estimate? How does it scale with the number of measurements (also called shots)?\n",
    "\n",
    "- **(*)** Can you check that you obtain this behavior with the QPU simulator above (for a given $\\theta$)? This can be done by using the \"nbshots\" parameter of the ``to_job`` method (no parameter, or nbshots=0, means an infinite number of shots and hence no statistical errors).\n",
    "    \n",
    "</div>"
   ]
  },
  {
   "cell_type": "markdown",
   "id": "91388346",
   "metadata": {},
   "source": [
    "#### VQE for all bond distances\n",
    "\n",
    "We now carry out the VQE procedure for all bond distances:"
   ]
  },
  {
   "cell_type": "code",
   "execution_count": 58,
   "id": "ff9fd2bc",
   "metadata": {},
   "outputs": [],
   "source": [
    "l_VQE_GS = []\n",
    "\n",
    "for d in hamilt.keys():\n",
    "    job = circ.to_job(observable = hamilt[d], nbshots = 100)\n",
    "    result = smart_qpu.submit(job)\n",
    "    l_VQE_GS.append(result.value)"
   ]
  },
  {
   "cell_type": "code",
   "execution_count": 59,
   "id": "3f9607cd",
   "metadata": {},
   "outputs": [
    {
     "name": "stdout",
     "output_type": "stream",
     "text": [
      "\n"
     ]
    },
    {
     "data": {
      "image/png": "[encoded data removed]",
      "text/plain": [
       "<Figure size 432x288 with 1 Axes>"
      ]
     },
     "metadata": {
      "needs_background": "light"
     },
     "output_type": "display_data"
    }
   ],
   "source": [
    "plt.plot(l_d, l_GS, label = 'ED')\n",
    "plt.plot(l_d, l_VQE_GS, label = 'VQE')\n",
    "plt.xlabel(\"$d$\")\n",
    "plt.ylabel(\"$E_0$\")\n",
    "plt.title(\"Ground state energy as a function of interatomic distant with ED\")\n",
    "plt.legend()\n",
    "print()"
   ]
  },
  {
   "cell_type": "code",
   "execution_count": 62,
   "id": "9d75c60f",
   "metadata": {},
   "outputs": [
    {
     "data": {
      "text/plain": [
       "[0.14421033384507054,\n",
       " -0.32393924517088585,\n",
       " -0.612974544557848,\n",
       " -0.800510261380436,\n",
       " -0.9252596050459732,\n",
       " -1.0090090164925494,\n",
       " -1.0653917808231923,\n",
       " -1.1023261929650405,\n",
       " -1.1255942623584867,\n",
       " -1.1389447440785323]"
      ]
     },
     "execution_count": 62,
     "metadata": {},
     "output_type": "execute_result"
    }
   ],
   "source": [
    "l_VQE_GS[:10]"
   ]
  },
  {
   "cell_type": "code",
   "execution_count": 55,
   "id": "c583d98c",
   "metadata": {},
   "outputs": [
    {
     "data": {
      "text/plain": [
       "[0.14421033191099067,\n",
       " -0.3239392452849162,\n",
       " -0.6129745446098809,\n",
       " -0.8005102614889511,\n",
       " -0.9252596050468844,\n",
       " -1.0090090168725934,\n",
       " -1.06539178102544,\n",
       " -1.102326193007416,\n",
       " -1.1255942623603348,\n",
       " -1.138944744265075]"
      ]
     },
     "execution_count": 55,
     "metadata": {},
     "output_type": "execute_result"
    }
   ],
   "source": [
    "l_GS[:10]"
   ]
  },
  {
   "cell_type": "markdown",
   "id": "b808086e",
   "metadata": {},
   "source": [
    "\n",
    "\n",
    "<div class=\"alert alert-block alert-info\">\n",
    "\n",
    "- **(*)** What do you observe? Is the VQE energy accurate compared to \"chemical accuracy\" (what is chemical accuracy? why is this value chosen?)\n",
    "- **(*)** Can some values be lower than the exact ground-state energy? Why?\n",
    "    \n",
    "</div>"
   ]
  },
  {
   "cell_type": "markdown",
   "id": "2253c2a8",
   "metadata": {},
   "source": [
    "<a id='noisy_qubits'></a>\n",
    "### 2.b) Noisy qubits\n",
    "\n",
    "We now replace the perfect QPU of the above subsection by a simulator that takes into account hardware noise, which we will call a \"noisy QPU\".\n",
    "\n",
    "A noisy QPU mimics the effect of quantum noise (decoherence). Here, we choose a very simple noise model called **depolarizing noise**.\n",
    "\n",
    "#### A crash course into noisy quantum states and noisy gates\n",
    "\n",
    "##### Noisy quantum states\n",
    "A \"noisy\" qubit cannot be described by a ket $|\\psi\\rangle$ because it is (by definition) entangled with its environment (only the ket $|\\Psi_\\mathrm{tot}\\rangle$ describing the qubit AND its environment is well defined). One can, instead of manipulating $|\\Psi_\\mathrm{tot}\\rangle$ (a very large object with too much information for our purposes!), manipulate a new object called the **\"density matrix\"**, often denoted as $\\rho$. It describes the fact that when a qubit gets entangled with its environment, one loses information on the qubit's state. It becomes a \"statistical mixture\" of several pure states: typically, $\\rho$ can be decomposed as $$\\rho = \\sum_i p_i |\\psi_i\\rangle \\langle \\psi_i |,$$ which you should interpret as the qubit is in state $|\\psi_i\\rangle$ with probability $p_i$. A perfect qubit is described by a density matrix $\\rho = |\\psi\\rangle\\langle \\psi|$ (its state is perfectly known; it is also known as a **pure state**, as opposed to a **mixed state**).\n",
    "\n",
    "\n",
    "<div class=\"alert alert-block alert-success\">\n",
    "    \n",
    "For more information about density matrices, read your notes from Lecture n°4 of the EA!\n",
    "</div>\n",
    "\n",
    "##### Noisy gates\n",
    "In this picture, a \"noisy gate\" is, mathematically speaking, a function $\\rho \\mapsto \\mathcal{E}(\\rho)$ that maps an input density matrix $\\rho$ to an output density matrix $\\mathcal{E}(\\rho)$. A perfect gate, described by a unitary matrix $U$ (see lecture 1), acts on $\\rho$ as $\\mathcal{E}(\\rho) =\\mathcal{U}(\\rho) = U \\rho U^\\dagger$. The most general expression for a noisy gate is:\n",
    "\n",
    "$$\\mathcal{E}(\\rho) = \\sum_{k=0}^{K-1} E_k \\rho E_k^\\dagger,$$\n",
    "\n",
    "with the operators $E_k$ called \"Kraus operators\". Usually, one can decompose a noisy gate as a perfect gate $\\mathcal{U}$ followed by (or composed with) a noise map $\\mathcal{E}$.\n",
    "\n",
    "\n",
    "\"Depolarizing noise\" is a simple noise map with simple Kraus operators. In the one-qubit case, $E_0 = \\sqrt{1 -p} I$, $E_i = \\sqrt{p/3} \\sigma_i$ with $\\sigma_1$ the $\\sigma^x$ Pauli matrix and so on.\n",
    "\n",
    "<div class=\"alert alert-block alert-info\">\n",
    "    \n",
    "- **(*)** If one starts from a pure state $\\rho=|\\psi\\rangle\\langle\\psi|$ and applies a depolarizing noise, what does the output density matrix look like? What happens in the limit when $p\\rightarrow 0$?\n",
    "\n",
    "</div>\n",
    "<div class=\"alert alert-block alert-success\">\n",
    "\n",
    "Alternative descriptions of decoherence exist (see the Lindblad equation you learned about in Lecture n°4). You will also learn more about decoherence in Lecture n°9.\n",
    "</div>\n",
    "\n",
    "#### Back to our noisy QPU\n",
    "In a very simplified picture, we choose to apply this noise after each gate (which we suppose to be perfect). This is achieved using another \"plugin\" that transforms a perfect QPU into a noisy \"depolarized\" QPU.\n",
    "\n",
    "Here, we have to choose a depolarizing \"probability\". This is the probability that a depolarization event occurs. It is usually larger for two-qubit gates as their duration is longer than one-qubit gates, thereby increasing the probability that a noisy event occurs. Thus we must choose two numbers, ``prob_1qb`` and ``prob_2qb``, for one and two-qubit gates, respectively."
   ]
  },
  {
   "cell_type": "code",
   "execution_count": null,
   "id": "a73034cc",
   "metadata": {},
   "outputs": [],
   "source": [
    "from qat.qpus import PyLinalg\n",
    "from depolarizing_plugin_vec import DepolarizingPluginVec\n",
    "from qat.plugins import ScipyMinimizePlugin\n",
    "\n",
    "plugin = ScipyMinimizePlugin(method='Nelder-Mead')\n",
    "\n",
    "# we instantiate a plugin that turns a perfect qpu into a noisy qpu:\n",
    "depol = DepolarizingPluginVec(prob_1qb=0.005, prob_2qb=0.01)  # 0.005 corresponds to 0.5% probability\n",
    "qpu = PyLinalg()\n",
    "\n",
    "noisy_qpu = depol | qpu\n",
    "\n",
    "smart_noisy_qpu = plugin | noisy_qpu\n",
    "\n",
    "# perform variational computation for all distances\n",
    "# ..."
   ]
  },
  {
   "cell_type": "code",
   "execution_count": null,
   "id": "4ad580dc",
   "metadata": {},
   "outputs": [],
   "source": [
    "# plot energies"
   ]
  },
  {
   "cell_type": "markdown",
   "id": "7ed5bd4c",
   "metadata": {},
   "source": [
    "\n",
    "\n",
    "<div class=\"alert alert-block alert-info\">\n",
    "\n",
    "- **(*)** What do you observe? Is \"chemical accuracy\" (what is it?) reached?\n",
    "- **(*)** What noise levels would be needed to observe chemical accuracy?\n",
    "- **(*)** How does the error evolve with the depolarizing error (you can assume a fixed ratio between the one and two-qubit depolarizing probabilities)?\n",
    "    \n",
    "</div>"
   ]
  },
  {
   "cell_type": "markdown",
   "id": "35851996",
   "metadata": {},
   "source": [
    "- **(#)** (BONUS) You can easily get access to the variational parameters $\\theta^*$ at convergence (by inspecting the contents of ``res[d].meta_data`` above), and execute the corresponding circuit $U(\\theta^*)$ on a true quantum computer by replacing the ``qpu`` or ``noisy_qpu`` instance above by an instance of a (e.g) IBM \"backend\". See https://myqlm.github.io/myqlm_specific/qiskit.html#module-qat.interop.qiskit.providers. When you perform this run (for this you need to obtain an IBM token by registering on their website), how accurate are the results you obtain?"
   ]
  },
  {
   "cell_type": "markdown",
   "id": "b0c2436f",
   "metadata": {},
   "source": [
    "### 2.c) (GROUP 1 ONLY) Deeper into noise models\n",
    "\n",
    "Take a look at the figure shown by O'Malley et al below. \n",
    "\n",
    "<div class=\"alert alert-block alert-info\">\n",
    "    \n",
    "- **(*)** Are their results similar to yours? Can you list the possible causes of discrepancy?\n",
    "\n",
    "</div>\n",
    "    \n",
    "<div align=\"center\"><img src=\"data/omalley_fig3.png\" width=\"50%\"></div>\n",
    "\n",
    "<div class=\"alert alert-block alert-info\">\n",
    "    \n",
    "- **(*)** Can you briefly describe the working principle of \"transmon qubits\" used in O'Malley et al's work?\n",
    "\n",
    "- **(*)** In the paper, what causes of errors are mentioned? What are the two characteristic decoherence times? What are their respective meaning? Are they related or not to the depolarizing noise model we used above?\n",
    "\n",
    "- **(*)** What is the duration of the quantum gates used in the circuits? If you assume the error probability to follow an exponential law $$p = 1 - e^{-t/T_1}$$ and $$p' = 1 - e^{- 2t /T_\\varphi}$$ with $T_\\varphi = (1/T_2 - 1/(2 T_1))^{-1}$, what is the error probability of a one-qubit gate? of a two-qubit gate?\n",
    "    \n",
    "</div>"
   ]
  },
  {
   "cell_type": "markdown",
   "id": "7e8f3f6c",
   "metadata": {},
   "source": [
    "\n",
    "<div class=\"alert alert-block alert-info\">\n",
    "\n",
    "- **(*)** Given these probabilities, adjust the depolarizing probabilities you took and rerun the computations. Are you closer to the experimental curves?\n",
    "\n",
    "</div>"
   ]
  },
  {
   "cell_type": "markdown",
   "id": "2f295e8a",
   "metadata": {},
   "source": [
    "### 2.d) (GROUP 2 ONLY) Zero-noise extrapolation\n",
    "\n",
    "In the previous subsections, we saw how noise could degrade VQE results. We can try to reduce (or \"mitigate\") the effects of noise with a trick introduced in this paper: http://arxiv.org/abs/1801.03897 (p4). The method is simple: given a noisy QPU with noise level \"$r$\" ($r > 0$ if the computer is not perfect), one can try to artificially increase the noise strength $r$ to get the VQE energy $E(r)$, and then extrapolate to the $r\\rightarrow 0$ limit. \n",
    "\n",
    "There are several tricks to artificially increase the noise level. The one proposed by Dumitrescu et al is to add $m$ pairs of CNOT gates after each CNOT gate of the variational circuit. In the perfect case, a pair of CNOT gates is an identity gate. In the noisy case, it approximately boils down to adding a noise of strength $2\\epsilon$ (if we suppose that one CNOT gate incurs a noise of strength $\\epsilon$). Thus, a CNOT gate in the initial circuit (strength $r=\\epsilon$) is replaced by $1+2m$ CNOT gates, corresponding to a noise strength $r=(1+2m)\\epsilon$. If we record the value of the VQE energy $E(m)$, the \"noiseless\" ($r=0$) extrapolation is $E(m=-1/2)$.\n",
    "\n",
    "The cell below implements this idea."
   ]
  },
  {
   "cell_type": "code",
   "execution_count": null,
   "id": "4fa51d95",
   "metadata": {},
   "outputs": [],
   "source": [
    "# perform variational computation with insertion of an increasing number of pairs of CNOTs\n",
    "# ..."
   ]
  },
  {
   "cell_type": "markdown",
   "id": "55658f64",
   "metadata": {},
   "source": [
    "We now need to extrapolate $E(m)$ to the $m=-1/2$ limit. \n",
    "\n",
    "<div class=\"alert alert-block alert-info\">\n",
    "\n",
    "- **(*)** What form of fit can you choose? \n",
    "- **(*)** Is the \"zero-noise extrapolation\" closer to the exact energy? If there is still a deviation, where does it come from?\n",
    "- **(#)** Can you think of other noise mitigation methods?\n",
    "\n",
    "</div>\n",
    "\n",
    "Here, given the shape of the curve, we choose a linear fit. The extrapolated energy is indeed better than the noisy one! It is not perfect because of the one-qubit noise."
   ]
  },
  {
   "cell_type": "code",
   "execution_count": null,
   "id": "40535ec9",
   "metadata": {},
   "outputs": [],
   "source": [
    "from scipy.optimize import curve_fit\n",
    "\n",
    "# fit curve E(m) to extrapolate to zero-noise limit\n",
    "# ..."
   ]
  },
  {
   "cell_type": "markdown",
   "id": "0d20e932",
   "metadata": {},
   "source": [
    "<a id='sec:qpe'></a>\n",
    "## 3. Standard Quantum Phase Estimation (GROUP 3)\n",
    "\n",
    "In this section, we find an approximate ground-state energy with another method, the Quantum Phase Estimation (QPE) algorithm. We first focus on the \"standard\" version of this algorithm. In the next section (for group 2 only), we will turn to the variant used in the O'Malley et al paper, which is called \"Iterative Quantum Phase Estimation\".\n",
    "\n",
    "<a id='qpe'></a>\n",
    "#### Basic description of the QPE algorithm (see also: Lecture n°6)\n",
    "\n",
    "A standard phase estimation algorithm consists in three main steps:\n",
    "- Preparing the $m$-bit \"phase\" register in state $|+\\rangle^m$ with Hadamard gates ($|+\\rangle = (|0\\rangle + |1\\rangle)/\\sqrt{2}$) and the \"data\" register in a state $|\\psi\\rangle$ that has a large enough overlap with the sought-after ground state $|\\Psi\\rangle$;\n",
    "- Applying controlled-$U^{2^j}$ gates to both registers (with $j=0\\dots m-1$), with $U$ the unitary whose phase $\\varphi$ we want to find: $$U |\\Psi\\rangle = e^{2i\\pi \\varphi} |\\Psi\\rangle;$$\n",
    "- Applying the inverse Quantum Fourier Tranform to the phase register.\n",
    "Once this circuit is executed, one measures the qubits of the phase register (we call $\\varphi_i\\in\\lbrace 0,1\\rbrace$ the measurement result) to obtain a $m$-bit estimate $\\hat{\\varphi}$ of $\\varphi$: $$\\hat\\varphi = \\sum_{i=0}^{m-1} \\frac{1}{2^{1+i}} \\varphi_i.$$\n",
    "\n",
    "In our case, $U$ assumes a very particular form: $U = \\exp(-i H t_0)$, with $H$ the Hamiltonian whose ground state energy we want to find. Thus, $U |\\Psi\\rangle = e^{-i E t_0}|\\Psi\\rangle $ and therefore we can identify $2\\pi \\varphi = -E t_0$ so that we can compute an estimate $\\hat{E}$ as $\\hat{E} = -2\\pi\\hat{\\varphi}/t_0$.\n",
    "\n",
    "#### Making sure that the phase is within $]0, 1[$\n",
    "\n",
    "Let us note that $\\varphi$ can be known only up to a integer: for any $n\\in \\mathbb{Z}$, $\\varphi' = \\varphi + n$ is also an admissible eigenphase. This can cause a problem for the determination of the energy since it can be determined only up to $2\\pi n/t_0$ as a consequence of this remark.\n",
    "\n",
    "To avoid this problem, we are going to make sure that $\\varphi$ corresponding to the ground-state energy $E$ satisfies $0<\\varphi<1$. To this aim, we use the fact that the Hamiltonian is decomposed as $H = \\lambda_0 + \\sum_{i=1}^{M} \\lambda_i P_i$ and that $\\mathrm{Tr} P_i = 0$ $\\forall i$. We apply QPE to $\\tilde{H} = H - \\lambda_0$. Since $\\mathrm{Tr} \\tilde H = 0$, it means that its ground state energy $E$ is negative.\n",
    "\n",
    "\n",
    "<div class=\"alert alert-block alert-info\">\n",
    "\n",
    "- **(*)** Why does the fact that $\\mathrm{Tr} \\tilde{H} = 0$ imply that its ground-state energy is $\\leq 0$?\n",
    "\n",
    "</div> \n",
    "   \n",
    "Then, if we pick $t_0$ such that $0 < t_0 < 2\\pi/(-E)$, we will have $\\varphi = -E t_0/(2\\pi) \\in ]0, 1[$."
   ]
  },
  {
   "cell_type": "markdown",
   "id": "ec6d73dd",
   "metadata": {},
   "source": [
    "<a id='trotterization'></a>\n",
    "### 3.a) Circuit implementation of the controlled unitaries: Trotterization\n",
    "\n",
    "Let us turn to the implementation of $U^{2^j} = \\exp(-i 2^j H t_0) = \\exp(-i\\alpha H)$ as a quantum circuit. It is need for the second step of the QPE algorithm described above. $H$ is represented as a weighted sum of products of Pauli operators:\n",
    "$$H = \\sum_{i=1}^{M} \\lambda_i P_i$$\n",
    "\n",
    "It is quite easy to express the exponential of a product of Pauli operators $\\exp(i\\lambda P)$ as a quantum circuit. Before we can do this, we need  to expand the exponential of a sum as a product of exponentials. Since the terms of the sum do not commute, we cannot straightforwardly do this expansion. Instead, we use so-called \"Trotter\" identities to perform this expansion.\n",
    "\n",
    "The first-order Trotter identity reads\n",
    "\n",
    "$$\\exp(\\delta \\sum_{i=1}^M A_i) = \\prod_{i=1}^M \\exp(\\delta A_i) + O(\\delta^2)$$\n",
    "\n",
    "It becomes exact in the $\\delta\\rightarrow 0$ limit. The second-order Trotter identity reads\n",
    "\n",
    "$$\\exp(\\delta \\sum_{i=1}^M A_i) = \\prod_{i=1}^M \\exp(\\delta A_i/2) \\prod_{i=M}^{1} \\exp(\\delta A_i/2) + O(\\delta^3)$$\n",
    "\n",
    "To use either identity, we first decompose the Hamiltonian in the following way:\n",
    "\n",
    "$$ \\exp(-i \\alpha H) = \\prod_{k=1}^{N} \\exp(-i \\alpha /N H) $$\n",
    "\n",
    "and then apply the Trotter identities to $\\exp(-i \\alpha /N H)$ with $\\delta = \\alpha / N$. For instance, if we use the first-order expansion, we obtain: \n",
    "\n",
    "$$ \\exp(-i \\alpha H) \\approx \\prod_{k=1}^{N} \\prod_{i=1}^M \\exp(-i\\alpha \\lambda_i / N P_i), $$\n",
    "\n",
    "with a total Trotter error $O(\\alpha^2 / N)$ (there are $N$ Trotter slices, each of which has a $O(\\alpha^2/ N^2)$ error).\n",
    "\n",
    "The function that builds the corresponding quantum routine is provided under the name ``make_controlled_exp_hamiltonian``."
   ]
  },
  {
   "cell_type": "code",
   "execution_count": null,
   "id": "0fd8e2c5",
   "metadata": {},
   "outputs": [],
   "source": [
    "from qpe_utils import make_controlled_exp_hamiltonian\n",
    "\n",
    "## uncomment the following line to see the documentation of the function.\n",
    "# make_controlled_exp_hamiltonian?"
   ]
  },
  {
   "cell_type": "markdown",
   "id": "763687c2",
   "metadata": {},
   "source": [
    "\n",
    "<div class=\"alert alert-block alert-info\">\n",
    "\n",
    "- **(*)** Can you explain how the ``make_controlled_exp_hamiltonian`` function works based on the description of the Trotterization procedure above?\n",
    "- **(*)** If a Hamiltonian contains $M$ noncommuting terms, how many $\\exp(-i\\alpha \\lambda_i / N P_i)$ subcircuits will the $U$ circuit contain?\n",
    "- **(*)** How to implement a single $\\exp(-i\\alpha P_i)$ term? Can you explain how the corresponding routine, ``construct_Rk_routine`` (in the ``qpe_utils`` module), works?\n",
    "    \n",
    "</div>"
   ]
  },
  {
   "cell_type": "markdown",
   "id": "c95e5e0a",
   "metadata": {},
   "source": [
    "### 3.b) Quantum phase estimation routine\n",
    "\n",
    "We now build the quantum routine corresponding to the QPE. We use the already implemented function ``make_controlled_exp_hamiltonian``."
   ]
  },
  {
   "cell_type": "code",
   "execution_count": null,
   "id": "33eab08a",
   "metadata": {},
   "outputs": [],
   "source": [
    "from qat.lang.AQASM.qftarith import IQFT\n",
    "from qat.lang.AQASM import H, QRoutine, RX, Program\n",
    "from qat.lang.AQASM import CNOT, RZ\n",
    "from qat.lang.AQASM import QInt\n",
    "\n",
    "\n",
    "def build_qpe_routine_for_hamiltonian(hamiltonian, n_phase_bits, t0=1., n_trotter=1, order=1):\n",
    "    \"\"\"Construct the quantum phase estimation routine corresponding to a given Hamiltonian\n",
    "    \n",
    "    \n",
    "    Args:\n",
    "        hamiltonian (Observable): a Hamiltonian\n",
    "        n_phase_bits (int): the number of phase bits\n",
    "        t0 (float): the evolution time\n",
    "        n_trotter (int): the number of Trotter steps\n",
    "        order (int): Trotterization order\n",
    "        \n",
    "    Returns:\n",
    "        QRoutine: a quantum routine for phase estimation with unitary U = exp(-i H t0)\n",
    "    \"\"\"\n",
    "    routine = QRoutine()\n",
    "    phase_reg = routine.new_wires(n_phase_bits)\n",
    "    data_reg = routine.new_wires(hamiltonian.nbqbits)\n",
    "    \n",
    "    # Hadamard wall\n",
    "    # ...\n",
    "    \n",
    "    # controlled unitaries\n",
    "    # ...\n",
    "        \n",
    "    # now apply inverse QFT\n",
    "    # ...\n",
    "    \n",
    "    return routine"
   ]
  },
  {
   "cell_type": "markdown",
   "id": "d272805e",
   "metadata": {},
   "source": [
    "\n",
    "<div class=\"alert alert-block alert-info\">\n",
    "    \n",
    "- **(*)** Using ``%qatdisplay``, plot the quantum routine to check that it has the necessary building blocks.\n",
    "    \n",
    "</div>"
   ]
  },
  {
   "cell_type": "code",
   "execution_count": null,
   "id": "7d80cc41",
   "metadata": {},
   "outputs": [],
   "source": [
    "# an example:\n",
    "# qpe_routine = ... \n",
    "\n",
    "%qatdisplay qpe_routine"
   ]
  },
  {
   "cell_type": "markdown",
   "id": "46103850",
   "metadata": {},
   "source": [
    "### 3.c) Executing the QPE\n",
    "\n",
    "Now that we have the core QPE routine, we write a high-level function that builds the circuit, submits it to a QPU and then post-processes the output. It returns the probabilities of getting each possible output (there are $2^m$ possible outputs).\n",
    "\n",
    "\n",
    "Instead of using gates to prepare the ground state, we can, to make our life simpler, apply instead a ``StatePreparation`` routine that exactly prepares a given quantum state ``psi_init`` with the syntax ``prog.apply(StatePreparation(psi_init), phase_reg, data_reg)``."
   ]
  },
  {
   "cell_type": "code",
   "execution_count": null,
   "id": "f4663e8a",
   "metadata": {},
   "outputs": [],
   "source": [
    "from qat.lang.AQASM import AbstractGate\n",
    "StatePreparation = AbstractGate(\"STATE_PREPARATION\", [np.ndarray])\n",
    "\n",
    "\n",
    "def perform_qpe(qpu, hamiltonian, psi0, n_phase_bits, n_trotter, nbshots=0, t0=1.0, order=1, verbose=False):\n",
    "    \"\"\"\n",
    "    Args:\n",
    "        qpu (QPU): a QPU\n",
    "        hamiltonian (Observable): a Hamiltonian\n",
    "        psi0 (np.array): an eigenvector of H\n",
    "        n_phase_bits (int): number of bits for the phase\n",
    "        n_trotter (int): number of trotter slices\n",
    "        nbshots (int, optional): number of shots.\n",
    "            Defaults to 0 (corresponding to an infinite number of shots)\n",
    "        t0 (float, optional): time in U = exp(- i H t0). Defaults to 1.\n",
    "        order (int, optional): Trotterization order. Defaults to 1.\n",
    "        verbose (bool, optional): for verbose output. Defaults to False.\n",
    "        \n",
    "    Returns:\n",
    "        np.array: the vector of probabilities (frequencies) of obtaining each output (from 0 to 2^{m-1})\n",
    "    \"\"\"\n",
    "    # we prepare the initial state |0...0>|psi0> of the register\n",
    "    phase_reg_in = np.zeros((2**n_phase_bits,))\n",
    "    phase_reg_in[0] = 1.0 # |0>^n_phase_bits\n",
    "    psi_init = np.kron(phase_reg_in, psi0)\n",
    "    \n",
    "    # we initialize the program\n",
    "    prog = Program()\n",
    "    phase_reg = prog.qalloc(n_phase_bits, class_type=QInt, reverse_bit_order=False)\n",
    "    data_reg = prog.qalloc(hamiltonian.nbqbits)\n",
    "\n",
    "    # we use a StatePreparation gate to prepare psi_init\n",
    "    # this is somewhat of a trick: this assumes we can prepare exactly the ground state\n",
    "    # if we don't want to cheat we can replace the StatePreparation routine\n",
    "    # by a routine (gates) that prepare an approximate ground state\n",
    "    prog.apply(StatePreparation(psi_init), phase_reg, data_reg)\n",
    "\n",
    "    # we call the main QPE routine\n",
    "    pea_routine = build_qpe_routine_for_hamiltonian(hamiltonian, n_phase_bits, t0=t0,\n",
    "                                                    n_trotter=n_trotter, order=order)\n",
    "    prog.apply(pea_routine, phase_reg, data_reg)\n",
    "\n",
    "    # we generate the corresponding circuit and execute it\n",
    "    # ...\n",
    "\n",
    "    # we store the output probabilities in a vector\n",
    "    probs = np.zeros(2**n_phase_bits)\n",
    "    # ...\n",
    "\n",
    "    return probs"
   ]
  },
  {
   "cell_type": "markdown",
   "id": "4618d059",
   "metadata": {},
   "source": [
    "### 3.d) Study of the influence of the parameters\n",
    "\n",
    "Before we execute the QPE for the Hamiltonians corresponding to the various distances, we study the influence of the various parameters on the accuracy for a fixed distance (here $d = 0.2 A$).\n",
    "\n",
    "<div class=\"alert alert-block alert-info\">\n",
    "\n",
    "- **(*)** Plot the probability distribution of the ouputs of the QPE for various numbers of Trotter steps and phase qubits. What do you observe?\n",
    "    \n",
    "</div>"
   ]
  },
  {
   "cell_type": "code",
   "execution_count": null,
   "id": "988f9ec5",
   "metadata": {},
   "outputs": [],
   "source": [
    "h = hamilt[0.2]\n",
    "t0 = qpe_t0[0.2]\n",
    "# ...\n"
   ]
  },
  {
   "cell_type": "markdown",
   "id": "8aa70fef",
   "metadata": {},
   "source": [
    "<div class=\"alert alert-block alert-info\">\n",
    "    \n",
    "- **(*)** What is the number of Trotter steps used by O'Malley et al?\n",
    "- **(*)** What is the Trotterization order they choose (first-order or second-order)?\n",
    "- **(*)** Does the order of the terms matter when trotterizing the exponential of a Hamiltonian?\n",
    "- **(*)** To keep a fixed Trotter error upon increasing the final time $t_0$, how must one change the number of Trotter steps with respect to $t_0$?\n",
    "    \n",
    "</div>"
   ]
  },
  {
   "cell_type": "markdown",
   "id": "3a5888aa",
   "metadata": {},
   "source": [
    "### 3.e) QPE energy as a function of distance (perfect qubits)\n",
    "\n",
    "Below, we write a short function that launches the QPE procedure for several distances and stores the result in a list.\n",
    "NB: we are assuming we can prepare a perfect ground state!"
   ]
  },
  {
   "cell_type": "code",
   "execution_count": null,
   "id": "e65ed997",
   "metadata": {},
   "outputs": [],
   "source": [
    "def launch_qpe(qpu, n_trotter, n_phase_bits):\n",
    "    \"\"\"launch a QPE computation for a given QPU\"\"\"\n",
    "    E_QPEs = []\n",
    "    for ind, d in enumerate(hamilt.keys()):\n",
    "        h = hamilt[d]\n",
    "        \n",
    "        # ... call perform_qpe etc.\n",
    "        \n",
    "    return E_QPEs"
   ]
  },
  {
   "cell_type": "code",
   "execution_count": null,
   "id": "9a090507",
   "metadata": {},
   "outputs": [],
   "source": [
    "from qat.qpus import PyLinalg\n",
    "# n_trotter = \n",
    "# n_phase_bits = \n",
    "qpu = PyLinalg()\n",
    "# call launch_qpe"
   ]
  },
  {
   "cell_type": "code",
   "execution_count": null,
   "id": "87b11837",
   "metadata": {},
   "outputs": [],
   "source": [
    "# plot the results"
   ]
  },
  {
   "cell_type": "markdown",
   "id": "f50d6bd1",
   "metadata": {},
   "source": [
    "\n",
    "<div class=\"alert alert-block alert-info\">\n",
    "    \n",
    "- **(*)** What do you observe? How does it compare with the results (see Figure in section 2.b) above) in the paper?\n",
    "- **(*)** What happens when you increase the number of Trotter steps?\n",
    "    \n",
    "</div>"
   ]
  },
  {
   "cell_type": "markdown",
   "id": "3000f45c",
   "metadata": {},
   "source": [
    "### 3.f) QPE energy as a function of distance (noisy qubits)\n",
    "\n",
    "We now perform the same quantum computation, only with a noisy QPU. \n",
    "Read carefully [subsection 2.b) above](#noisy_qubits) to learn about noisy qubits and noisy gates, and their implementation with myQLM."
   ]
  },
  {
   "cell_type": "code",
   "execution_count": null,
   "id": "7b7e4d94",
   "metadata": {},
   "outputs": [],
   "source": [
    "# n_trotter = \n",
    "# n_phase_bits = \n",
    "\n",
    "from depolarizing_plugin_vec import DepolarizingPluginVec\n",
    "qpu = PyLinalg()\n",
    "depol = DepolarizingPluginVec(prob_1qb=0.005, prob_2qb=0.01)\n",
    "noisy_qpu = depol | qpu\n",
    "\n",
    "# call launch_qpe"
   ]
  },
  {
   "cell_type": "code",
   "execution_count": null,
   "id": "052ff23d",
   "metadata": {},
   "outputs": [],
   "source": [
    "#  plot"
   ]
  },
  {
   "cell_type": "markdown",
   "id": "96a961c1",
   "metadata": {},
   "source": [
    "\n",
    "<div class=\"alert alert-block alert-info\">\n",
    "\n",
    "- **(*)** What do you observe? Does noise degrade the accuracy on the energy? Is chemical accuracy reached?\n",
    "- **(*)** Can some values be lower than the exact ground-state energy? Why?\n",
    "    \n",
    "</div>"
   ]
  },
  {
   "cell_type": "markdown",
   "id": "a60412ff",
   "metadata": {},
   "source": [
    "<a id='sec:iqpe'></a>\n",
    "## 4. Iterative quantum phase estimation (GROUP 4)\n",
    "\n",
    "In this section, we turn to a variant to standard QPE called \"Iterative QPE\". It is described e.g in http://dx.doi.org/10.1103/PhysRevA.76.030306.\n",
    "\n",
    "The idea is to determine the bits of the phase estimate $\\hat{\\varphi}$ one by one starting from the bit with least weight. The advantage of IQPE is that it requires only one ancilla (aka phase) qubit. The price to pay is that one uses the result obtained for the previous bit to obtain the next bit.\n",
    "\n",
    "\n",
    "Here is a basic description of the algorithm:\n",
    "- Initialize a variable $\\omega = 0$, and $j = m$.\n",
    "- While $j > 0$:\n",
    "    - Prepare data register in state $\\psi$ and phase register in state $|+\\rangle$;\n",
    "    - Apply a controlled-$U^{2^{j-1}}$ gate to both registers (with the control on the phase register)\n",
    "    - Apply a $R_z(\\omega)$ rotation, followed by a $H$ gate, to the phase register\n",
    "    - Measure phase register: get a bit $\\varphi_j$ (can be only 0 or 1).\n",
    "    - Update: $\\omega \\leftarrow \\omega/2 - 2 \\pi \\varphi_j / 4$ and $j \\leftarrow j -1$.\n",
    "- Return $\\hat{\\varphi} = - \\omega / \\pi$, \n",
    "\n",
    "This procedure is equivalent to standard QPE described [in this section](#qpe).\n",
    "\n",
    "<div class=\"alert alert-block alert-info\">\n",
    "    \n",
    "- **(*)** Can you prove that this procedure indeed returns a binary approximation $\\hat{\\varphi}$ to the phase, like standard QPE (read the beginning of section 3 for a reminder on QPE)?\n",
    "    \n",
    "</div>"
   ]
  },
  {
   "cell_type": "markdown",
   "id": "b553e8ab",
   "metadata": {},
   "source": [
    "To construct the circuit corresponding to the controlled-$U^{2^{j-1}}$ operation, we are going to use the function ``make_controlled_exp_hamiltonian``: "
   ]
  },
  {
   "cell_type": "code",
   "execution_count": null,
   "id": "94682a78",
   "metadata": {},
   "outputs": [],
   "source": [
    "from qpe_utils import make_controlled_exp_hamiltonian\n",
    "\n",
    "## uncomment the following line to see the documentation of the function.\n",
    "# make_controlled_exp_hamiltonian?"
   ]
  },
  {
   "cell_type": "markdown",
   "id": "ff6d0bf2",
   "metadata": {},
   "source": [
    "Read carefully the [section on Trotterization](#trotterization).\n",
    "\n",
    "<div class=\"alert alert-block alert-info\">\n",
    "    \n",
    "- **(*)** Can you explain how the ``make_controlled_exp_hamiltonian`` function works based on the description of the Trotterization procedure above?\n",
    "- **(*)** If a Hamiltonian contains $M$ noncommuting terms, how many $\\exp(-i\\alpha \\lambda_i / N P_i)$ subcircuits will the $U$ circuit contain?\n",
    "- **(*)** How to implement a single $\\exp(-i\\alpha P_i)$ term? Can you explain how the corresponding routine, ``construct_Rk_routine`` (in the ``qpe_utils`` module), works?\n",
    "    \n",
    "</div>"
   ]
  },
  {
   "cell_type": "markdown",
   "id": "22fb98c4",
   "metadata": {},
   "source": [
    "We can now write the full IQPE function by closely following the above description of the algorithm.\n",
    "\n",
    "Note: Instead of using gates to prepare the ground state, we can, to make our life simpler, apply instead a ``StatePreparation`` routine that exactly prepares a given quantum state ``psi_init`` with the syntax ``prog.apply(StatePreparation(psi_init), phase_reg, data_reg)``."
   ]
  },
  {
   "cell_type": "code",
   "execution_count": null,
   "id": "bd431a5d",
   "metadata": {},
   "outputs": [],
   "source": [
    "from qat.lang.AQASM.qftarith import IQFT\n",
    "from qat.lang.AQASM import H, QRoutine, RX, Program\n",
    "from qat.lang.AQASM import CNOT, RZ\n",
    "from qat.lang.AQASM import QInt\n",
    "from qat.lang.AQASM import AbstractGate\n",
    "StatePreparation = AbstractGate(\"STATE_PREPARATION\", [np.ndarray])\n",
    "\n",
    "\n",
    "def perform_iqpe(qpu, hamiltonian, psi0, n_phase_bits, n_trotter, t0=1.0, order=1, verbose=False):\n",
    "    \"\"\"\n",
    "    Args:\n",
    "        qpu (QPU): a QPU\n",
    "        hamiltonian (Observable): a Hamiltonian\n",
    "        psi0 (np.array): an eigenvector of H\n",
    "        n_phase_bits (int): number of bits for the phase\n",
    "        n_trotter (int): number of trotter slices\n",
    "        verbose (bool, optional): for verbose output. Defaults to False.\n",
    "        \n",
    "    Returns:\n",
    "        float: the estimated phase phi corresponding to U = exp(2 i \\pi phi) = exp(- i H t0)\n",
    "    \"\"\"\n",
    "    # we prepare the initial state |0>|psi0> of the register\n",
    "    phase_reg_in = np.zeros((2,))\n",
    "    phase_reg_in[0] = 1.0 # |0>\n",
    "    psi_init = np.kron(phase_reg_in, psi0)\n",
    "    \n",
    "    omega = 0.0\n",
    "    for j_ind in range(n_phase_bits, 0, -1):\n",
    "        # we initialize the program\n",
    "        prog = Program()\n",
    "        phase_reg = prog.qalloc(1, class_type=QInt, reverse_bit_order=False)\n",
    "        data_reg = prog.qalloc(hamiltonian.nbqbits)\n",
    "\n",
    "        # we use a StatePreparation gate to prepare psi_init\n",
    "        # this is somewhat of a trick: this assumes we can prepare exactly the ground state\n",
    "        # if we don't want to cheat we can replace the StatePreparation routine\n",
    "        # by a routine (gates) that prepare an approximate ground state\n",
    "        prog.apply(StatePreparation(psi_init), phase_reg, data_reg)\n",
    "\n",
    "        # apply gates\n",
    "        # ...\n",
    "        \n",
    "        # we generate the corresponding circuit and execute it\n",
    "        # ...\n",
    "\n",
    "        # update omega\n",
    "        # ...\n",
    "       \n",
    "    # return answer\n",
    "    # ... "
   ]
  },
  {
   "cell_type": "markdown",
   "id": "8deec160",
   "metadata": {},
   "source": [
    "### 4.a) Studying IQPE at a fixed distance\n",
    "\n",
    "We start by studying the behavior of IQPE at fixed bond distance $R=0.2 A$."
   ]
  },
  {
   "cell_type": "code",
   "execution_count": null,
   "id": "c4e9e716",
   "metadata": {},
   "outputs": [],
   "source": [
    "h = hamilt[0.2]\n",
    "t0 = qpe_t0[0.2]\n",
    "# ...\n"
   ]
  },
  {
   "cell_type": "markdown",
   "id": "d29f9adb",
   "metadata": {},
   "source": [
    "\n",
    "<div class=\"alert alert-block alert-info\">\n",
    "\n",
    "- **(*)** Study the influence of various numbers of Trotter steps and phase bits on the computed phase\n",
    "    \n",
    "</div>"
   ]
  },
  {
   "cell_type": "code",
   "execution_count": null,
   "id": "6c7db836",
   "metadata": {},
   "outputs": [],
   "source": [
    "# ..."
   ]
  },
  {
   "cell_type": "markdown",
   "id": "8dcf9e1a",
   "metadata": {},
   "source": [
    "<div class=\"alert alert-block alert-info\">\n",
    "    \n",
    "- **(*)** Display the quantum routine that you just wrote and tested using ``%qatdisplay``. Is is similar to the one used by O'Malley et al? Where do the discrepancies come from?\n",
    "\n",
    "</div>\n",
    "\n",
    "<div align=\"center\"><img src=\"data/omalley_fig4.png\" width=\"50%\"></div>\n",
    "\n",
    "    "
   ]
  },
  {
   "cell_type": "markdown",
   "id": "0f9703f0",
   "metadata": {},
   "source": [
    "### 4.b) Computing IQPE ground state energy for all distances (perfect qubits)\n",
    "\n",
    "We now perform the IQPE computation for all distances."
   ]
  },
  {
   "cell_type": "code",
   "execution_count": null,
   "id": "06d79853",
   "metadata": {},
   "outputs": [],
   "source": [
    "def launch_iqpe(qpu, n_trotter, n_phase_bits):\n",
    "    E_QPEs = []\n",
    "    for ind, d in enumerate(hamilt.keys()):\n",
    "        h = hamilt[d]\n",
    "        # ... call perform_iqpe\n",
    "    return E_QPEs"
   ]
  },
  {
   "cell_type": "code",
   "execution_count": null,
   "id": "ce157bc2",
   "metadata": {},
   "outputs": [],
   "source": [
    "from qat.qpus import PyLinalg\n",
    "# n_trotter = \n",
    "# n_phase_bits = \n",
    "qpu = PyLinalg()\n",
    "# call launch_iqpe\n",
    "# ..."
   ]
  },
  {
   "cell_type": "code",
   "execution_count": null,
   "id": "d597cc4e",
   "metadata": {},
   "outputs": [],
   "source": [
    "# plot"
   ]
  },
  {
   "cell_type": "markdown",
   "id": "2e67ba07",
   "metadata": {},
   "source": [
    "\n",
    "<div class=\"alert alert-block alert-info\">\n",
    "    \n",
    "- **(*)** What do you observe? How does it compare with the results (see Figure in section 2.b) above) in the paper?\n",
    "- **(*)** What happens when you increase the number of Trotter steps?\n",
    "    \n",
    "</div>"
   ]
  },
  {
   "cell_type": "markdown",
   "id": "6684ea2d",
   "metadata": {},
   "source": [
    "### 4.c) Computing the IQPE ground-state energy for all distances (noisy qubits)\n",
    "\n",
    "We now perform the same quantum computation, only with a noisy QPU. \n",
    "Read carefully [subsection 2.b) above](#noisy_qubits) to learn about noisy qubits and noisy gates, and their implementation with myQLM."
   ]
  },
  {
   "cell_type": "code",
   "execution_count": null,
   "id": "23a4e736",
   "metadata": {},
   "outputs": [],
   "source": [
    "from depolarizing_plugin_vec import DepolarizingPluginVec\n",
    "\n",
    "depol = DepolarizingPluginVec(prob_1qb=0.01, prob_2qb=0.05)\n",
    "qpu = PyLinalg()\n",
    "noisy_qpu = depol | qpu\n",
    "\n",
    "# call launch_iqpe\n",
    "# ..."
   ]
  },
  {
   "cell_type": "code",
   "execution_count": null,
   "id": "2874057b",
   "metadata": {},
   "outputs": [],
   "source": [
    "# plot"
   ]
  },
  {
   "cell_type": "markdown",
   "id": "dfa99a0c",
   "metadata": {},
   "source": [
    "\n",
    "<div class=\"alert alert-block alert-info\">\n",
    "    \n",
    "- **(*)** What do you observe? Does noise degrade the results?\n",
    "- **(*)** What happens when the noise level increases?\n",
    "    \n",
    "</div>\n",
    "\n"
   ]
  }
 ],
 "metadata": {
  "celltoolbar": "Diaporama",
  "kernelspec": {
   "display_name": "Python 3 (ipykernel)",
   "language": "python",
   "name": "python3"
  },
  "language_info": {
   "codemirror_mode": {
    "name": "ipython",
    "version": 3
   },
   "file_extension": ".py",
   "mimetype": "text/x-python",
   "name": "python",
   "nbconvert_exporter": "python",
   "pygments_lexer": "ipython3",
   "version": "3.8.3"
  }
 },
 "nbformat": 4,
 "nbformat_minor": 5
}
